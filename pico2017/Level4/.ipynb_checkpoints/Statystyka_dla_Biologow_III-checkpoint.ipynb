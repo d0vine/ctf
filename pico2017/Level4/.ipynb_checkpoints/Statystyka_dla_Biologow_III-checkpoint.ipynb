{
 "cells": [
  {
   "cell_type": "code",
   "execution_count": 1,
   "metadata": {
    "ExecuteTime": {
     "end_time": "2017-12-02T23:20:50.411000+01:00",
     "start_time": "2017-12-02T22:20:07.031Z"
    },
    "run_control": {
     "frozen": false,
     "read_only": false
    }
   },
   "outputs": [],
   "source": [
    "using Plots\n",
    "# plotly()\n",
    "pyplot()\n",
    "using StatsBase\n",
    "using StatsFuns\n",
    "using StatPlots\n",
    "using Distributions"
   ]
  },
  {
   "cell_type": "markdown",
   "metadata": {
    "run_control": {
     "frozen": false,
     "read_only": false
    }
   },
   "source": [
    "# Test $t$-Studenta"
   ]
  },
  {
   "cell_type": "markdown",
   "metadata": {
    "run_control": {
     "frozen": false,
     "read_only": false
    }
   },
   "source": [
    "Po angielsku: _one sample $t$-test, two sample $t$-test_"
   ]
  },
  {
   "cell_type": "markdown",
   "metadata": {
    "collapsed": true,
    "run_control": {
     "frozen": false,
     "read_only": false
    }
   },
   "source": [
    "> **Idea testu $t$-Studenta:**\n",
    ">\n",
    "> $$ \\text{wartość $t$-statystyki} =  \\frac{\\text{sygnał}}{\\text{szum}} = \\frac{\\text{Różnica między średnimi}}{\\text{Wewnętrzna zmienność obu populacji}} = \\frac{\\overline{x} - \\overline{y}}{\\text{???}}$$\n",
    "\n",
    "Wartość $t$-statystyki porównujemy z rozkładem $t$-Studenta o $N-1$ stopniach swobody"
   ]
  },
  {
   "cell_type": "markdown",
   "metadata": {
    "run_control": {
     "frozen": false,
     "read_only": false
    }
   },
   "source": [
    "**UWAGA**: Wszędzie poniżej zakładamy, że:\n",
    "  * Populacje są rozłożone _**normalnie**_\n",
    "  * wariancje/odchylenia standardowe populacji są _**nieznane**_\n",
    "  * próby są brane _**losowo**_ "
   ]
  },
  {
   "cell_type": "markdown",
   "metadata": {
    "run_control": {
     "frozen": false,
     "read_only": false
    }
   },
   "source": [
    "## Porównanie średniej próby ze znaną wartością\n",
    "\n",
    "(_One sample $t$-test_)\n",
    "\n",
    "Jeśli mamy próbę $x$ o której nie wiemy czy pochodzi z populacji o (znanej) średniej $\\mu$, statystyka $t$ wyraża się jako\n",
    "\n",
    "$$t = \\frac{\\overline{x} - \\mu}{SE(x)}$$\n",
    "\n",
    "Jeśli próba jest niewielka ($N<100$) \n",
    "obliczamy wartość-$p$ zgodnie z rozkładem $t$-Studenta o $N-1$ stopniach swobody"
   ]
  },
  {
   "cell_type": "code",
   "execution_count": 2,
   "metadata": {
    "ExecuteTime": {
     "end_time": "2017-12-02T23:20:51.771000+01:00",
     "start_time": "2017-12-02T22:20:07.041Z"
    },
    "run_control": {
     "frozen": false,
     "read_only": false
    },
    "scrolled": true
   },
   "outputs": [
    {
     "data": {
      "text/plain": [
       "10-element Array{Float64,1}:\n",
       " 11.8142 \n",
       "  8.65727\n",
       "  8.73904\n",
       "  6.44384\n",
       "  8.24099\n",
       " 11.1878 \n",
       " 11.4843 \n",
       " 11.5228 \n",
       " 11.5031 \n",
       " 10.3039 "
      ]
     },
     "execution_count": 2,
     "metadata": {},
     "output_type": "execute_result"
    }
   ],
   "source": [
    "proba = rand(Normal(10, 3), 10)"
   ]
  },
  {
   "cell_type": "markdown",
   "metadata": {
    "run_control": {
     "frozen": false,
     "read_only": false
    }
   },
   "source": [
    "> **Problem**\n",
    ">\n",
    "> Jak bardzo \"prawdopodobne\" jest żeby `proba` został wzięty z populacji o średniej 11?"
   ]
  },
  {
   "cell_type": "code",
   "execution_count": 3,
   "metadata": {
    "ExecuteTime": {
     "end_time": "2017-12-02T23:20:52.055000+01:00",
     "start_time": "2017-12-02T22:20:07.051Z"
    },
    "run_control": {
     "frozen": false,
     "read_only": false
    }
   },
   "outputs": [
    {
     "data": {
      "text/plain": [
       "SE (generic function with 1 method)"
      ]
     },
     "execution_count": 3,
     "metadata": {},
     "output_type": "execute_result"
    }
   ],
   "source": [
    "SE(X) = std(X)/sqrt(length(X))"
   ]
  },
  {
   "cell_type": "code",
   "execution_count": 4,
   "metadata": {
    "ExecuteTime": {
     "end_time": "2017-12-02T23:20:52.429000+01:00",
     "start_time": "2017-12-02T22:20:07.058Z"
    }
   },
   "outputs": [
    {
     "data": {
      "text/plain": [
       "0.5841252945555404"
      ]
     },
     "execution_count": 4,
     "metadata": {},
     "output_type": "execute_result"
    }
   ],
   "source": [
    "SE(proba)"
   ]
  },
  {
   "cell_type": "code",
   "execution_count": 5,
   "metadata": {
    "ExecuteTime": {
     "end_time": "2017-12-02T23:20:52.435000+01:00",
     "start_time": "2017-12-02T22:20:07.067Z"
    }
   },
   "outputs": [
    {
     "data": {
      "text/plain": [
       "-1.7295618485553546"
      ]
     },
     "execution_count": 5,
     "metadata": {},
     "output_type": "execute_result"
    }
   ],
   "source": [
    "t = (mean(proba) - 11)/SE(proba)"
   ]
  },
  {
   "cell_type": "code",
   "execution_count": 6,
   "metadata": {
    "ExecuteTime": {
     "end_time": "2017-12-02T23:20:52.449000+01:00",
     "start_time": "2017-12-02T22:20:07.074Z"
    }
   },
   "outputs": [
    {
     "data": {
      "text/plain": [
       "0.1177660063180539"
      ]
     },
     "execution_count": 6,
     "metadata": {},
     "output_type": "execute_result"
    }
   ],
   "source": [
    "tdistcdf(9, t) + tdistccdf(9, abs(t))"
   ]
  },
  {
   "cell_type": "markdown",
   "metadata": {},
   "source": [
    "Gdyby populacja miała faktycznie średnią 11, wówczas wylosowanie próby podobnie \"skrajnej\" (lub bardziej skrajnej) niż `proba` byłoby $> 0.59$"
   ]
  },
  {
   "cell_type": "code",
   "execution_count": null,
   "metadata": {
    "collapsed": true
   },
   "outputs": [],
   "source": []
  },
  {
   "cell_type": "markdown",
   "metadata": {
    "run_control": {
     "frozen": false,
     "read_only": false
    }
   },
   "source": [
    "## Porównanie dwóch średnich"
   ]
  },
  {
   "cell_type": "markdown",
   "metadata": {
    "run_control": {
     "frozen": false,
     "read_only": false
    }
   },
   "source": [
    "Rozważmy następujący problem: \n",
    "Studenci Biologii otrzymali następujące wyniki kolokwium z _Matematyki ze Statystyką_ (na 100 punktów możliwych):\n",
    "\n",
    "```\n",
    "[75, 72, 68, 66, 65, 65, 60, 58, 50, 48, 42, 40, 80, 76, 74, 70, 68, 68, 66, 65, 62, 58, 56, 43, 40, 39]\n",
    "```\n",
    "Spojrzawszy na te wyniki niektórzy Panowie poczuli się urażeni swoją niską punktacją więc skomentowali to mówiąc o prowadzącym:\n",
    "\n",
    "> _Ten babiarz wstawił dziewczynom lepsze oceny tylko dlatego, że przyszły ładnie ubrane!_\n",
    "\n",
    "Panie naturalnie poczuły się nieco urażone, więc postanowiły wykorzystać zdobytą wiedzę by pokazać, że tego twierdzenia nie można wysnuć na podstawie wyników kolokwium, t.j, że prowadzący wcale nie brał pod uwagę płci wystawiając oceny.\n",
    "\n",
    "> **Problem**\n",
    ">\n",
    "> Jak to wykazać statystycznie?"
   ]
  },
  {
   "cell_type": "markdown",
   "metadata": {
    "run_control": {
     "frozen": false,
     "read_only": false
    }
   },
   "source": [
    "* **Hipoteza zerowa:** Nie ma różnicy pomiędzy średnimi populacji ocen Pań i średnią populacji ocen Panów.\n",
    "* **Hipoteza alternatywna:** Istnieje różnica pomiędzy populacjami ocenami Pań i ocenami Panów."
   ]
  },
  {
   "cell_type": "markdown",
   "metadata": {
    "run_control": {
     "frozen": false,
     "read_only": false
    }
   },
   "source": [
    "Wyniki podzielone ze względu na płeć są następujące:"
   ]
  },
  {
   "cell_type": "code",
   "execution_count": 7,
   "metadata": {
    "ExecuteTime": {
     "end_time": "2017-12-02T23:20:52.465000+01:00",
     "start_time": "2017-12-02T22:20:07.083Z"
    },
    "collapsed": true,
    "run_control": {
     "frozen": false,
     "read_only": false
    }
   },
   "outputs": [],
   "source": [
    "men = [75, 72, 68, 66, 65, 65, 60, 58, 50, 48, 42, 40]\n",
    "women = [80, 76, 74, 70, 68, 68, 66, 65, 62, 58, 56, 43, 40, 39];"
   ]
  },
  {
   "cell_type": "code",
   "execution_count": 8,
   "metadata": {
    "ExecuteTime": {
     "end_time": "2017-12-02T23:21:14.939000+01:00",
     "start_time": "2017-12-02T22:20:07.095Z"
    },
    "run_control": {
     "frozen": false,
     "read_only": false
    }
   },
   "outputs": [
    {
     "data": {
      "text/html": [
       "<img src=\"data:image/png;base64,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\" />"
      ]
     },
     "execution_count": 8,
     "metadata": {},
     "output_type": "execute_result"
    }
   ],
   "source": [
    "p = Plots.get_color_palette(:auto, default(:bgcolor), 3)\n",
    "plot(histogram(men, opacity=0.5, label=\"Panowie\", c=p[1], bins=6),\n",
    "histogram(women, opacity=0.5, label=\"Panie\", c=p[2]))"
   ]
  },
  {
   "cell_type": "markdown",
   "metadata": {
    "run_control": {
     "frozen": false,
     "read_only": false
    }
   },
   "source": [
    "## BoxPlot"
   ]
  },
  {
   "cell_type": "code",
   "execution_count": 9,
   "metadata": {
    "ExecuteTime": {
     "end_time": "2017-12-02T23:21:16.281000+01:00",
     "start_time": "2017-12-02T22:20:07.112Z"
    },
    "run_control": {
     "frozen": false,
     "read_only": false
    }
   },
   "outputs": [
    {
     "data": {
      "text/html": [
       "<img src=\"data:image/png;base64,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\" />"
      ]
     },
     "execution_count": 9,
     "metadata": {},
     "output_type": "execute_result"
    }
   ],
   "source": [
    "boxplot(men, label=\"Panowie\", opacity=0.5)\n",
    "boxplot!(women, label=\"Panie\", opacity=0.5)"
   ]
  },
  {
   "cell_type": "markdown",
   "metadata": {
    "run_control": {
     "frozen": false,
     "read_only": false
    }
   },
   "source": [
    "Co oznacza `boxplot`:\n",
    "  * kreska w środku – mediana\n",
    "  * krawędzie prostokąta\n",
    "    - dolna: $25$-ty centyl ($C25$), t.j. $1$-szy kwartyl ($Q1$)\n",
    "    - górna: $75$-ty centyl ($C75$), t.j. $3$-ci kwartyl ($Q3$)\n",
    "  * wąsy – bywa różnie\n",
    "    - minimum i maximum danych (jak na wykresie powyżej)\n",
    "    - $2$ i $98$ centyl\n",
    "    - $10$ i $90$ centyl\n",
    "    - $Q1 - 1.5\\cdot IQR$ i $Q3 + 1.5\\cdot IQR$  (Rozstęp ćwiartkowy, rozstęp międzykwartylowy – _inter-quantile range_, $IQR = Q3 - Q1$)\n",
    "  * punkty leżące poza wąsami: \n",
    "    - punkty ekstremalne (które odrzuciliśmy)\n",
    "    - punkty pomiarów leżące poza wąsami\n",
    "\n",
    "**UWAGA** W związku z istnieniem różnych konwencji należy opisać każdy wykres typu `boxplot`!"
   ]
  },
  {
   "cell_type": "markdown",
   "metadata": {},
   "source": [
    "<p><a href=\"https://commons.wikimedia.org/wiki/File:Boxplot_vs_PDF.svg#/media/File:Boxplot_vs_PDF.svg\"><img src=\"https://upload.wikimedia.org/wikipedia/commons/1/1a/Boxplot_vs_PDF.svg\" alt=\"Boxplot vs PDF.svg\" width=\"598\" height=\"652\"></a><br>By <a href=\"https://en.wikipedia.org/wiki/User:Jhguch\" class=\"extiw\" title=\"en:User:Jhguch\">Jhguch</a> at <a class=\"external text\" href=\"http://en.wikipedia.org\">en.wikipedia</a>, <a href=\"https://creativecommons.org/licenses/by-sa/2.5\" title=\"Creative Commons Attribution-Share Alike 2.5\">CC BY-SA 2.5</a>, \n",
    "<a href=\"https://commons.wikimedia.org/w/index.php?curid=14524285\">Link</a></p>"
   ]
  },
  {
   "cell_type": "code",
   "execution_count": 10,
   "metadata": {
    "ExecuteTime": {
     "end_time": "2017-12-02T23:21:18.691000+01:00",
     "start_time": "2017-12-02T22:20:07.127Z"
    },
    "run_control": {
     "frozen": false,
     "read_only": false
    }
   },
   "outputs": [
    {
     "data": {
      "text/html": [
       "<img src=\"data:image/png;base64,iVBORw0KGgoAAAANSUhEUgAAAlgAAAGQCAYAAAByNR6YAAAABHNCSVQICAgIfAhkiAAAAAlwSFlzAAAPYQAAD2EBqD+naQAAADl0RVh0U29mdHdhcmUAbWF0cGxvdGxpYiB2ZXJzaW9uIDIuMS4wLCBodHRwOi8vbWF0cGxvdGxpYi5vcmcvpW3flQAAIABJREFUeJzs3XmUVdWd//33PufONVdRA1NRKKPIjIAKEUOpkYiKYrchMckjGZ7u5GfbsY0ZfrFddnrI03G12rGj6TjFxDZOMZImDqCgKKMog8xzMVZRc9Wdz9nPHxdRwlQF995zh+9rLdZK4a1zPnXCPfW9e+/z3UprrRFCCCGEEEljOB1ACCGEECLXSIElhBBCCJFkSS+wtNZ0dHQgM49CCCGEyFdJL7A6OzspKSmhs7Mz2YfOaO3t7U5HyCpyvXpOrlXPybXqHblePSfXqnfkeskUYdJYluV0hKwi16vn5Fr1nFyr3pHr1XNyrXpHrpcUWEIIIYQQSScFlhBCCCFEkrmcDiCEEEKI1IhGo+zduzftU3ZtbW2Ulpam9ZypZhgGffv2paioqEevlwJLCCGEyEH79+9n3rx5BIPBtJ/btm0MIzcnyebMmcMPf/jDs/58UmAJIYQQOca2be6//35KS0t5+OGH8fl8aT1/PB7H5cqtEiMWi/Hhhx/yn//5nwD8+Mc/PuPrT/rpX3/9dX70ox9h2zaxWIy7776br33tazQ2NvLVr36VnTt34vV6efTRR5k2bVpqfgohhBBCnLOjR4+ydu1a/vmf/5lx48al/fy5WGABjB49GoCHH36YO+6444zThSf89Fpr5s2bx9tvv82YMWPYs2cPI0aM4KabbuIHP/gBU6dO5bXXXmP16tXMnTuXnTt35uQFFEIIIbJZW1sbAAMGDHA4Se4ZP348AIcOHTpjgXXKCcRP/o/p6OigoqICr9fL888/z3e+8x0ALrnkEqqrq1m2bFmycwshhBAZ5dVXX+XHP/4xr776qtNResy2bQBM03Q4Se5xu93Ap9f4dE4YflJK8fzzz3PTTTdRUFBAa2srL7/8Mp2dndi2TWVl5fHX1tXVsW/fvtMeuKOj44SvvV4vXq+31z+IEEKI7KS1JrrrY+xIyOko5+xPb73DX/2ff6CyqJJHH32U5//z51z3+c85Heuswrv2oGNR7HAQO9R9/O+Vx4dysOiqq6vD5/Ph8/mIRqN85zvfOT54k26PPvoooVCIv//7v0/J8U8osOLxOP/6r//KH//4Ry6//HJWr17NjTfeyPr161FKnfCNZ9trcODAgSd8/f3vf5977rknSbEzT2trq9MRsopcr56Ta9Vzcq16J9XXy9q3lfgHi9GxKKizvz4TvfGHN+hT2IeX5i/ipl/P5M1XXuByd+ZvA9Nx+Ch2JMiiwy7eiYWP/70yLfD6U/b/R5UPZtcq4vH4aV/z3HPPcfHFF9PQ0MD48eO59NJLGTNmTGoCncE3vvENgDNmPZV4PI5t27S1tdHS0nL878vLy0943QkF1kcffcTBgwe5/PLLgcRUYL9+/Vi/fj0ATU1Nx0ex9u7dS21t7WkDNDQ0UFxcfPzrfBjB+suLK85MrlfPybXqOblWvZOq6xVvOkjnttUYXi+ufoNSco50+Py0Tn791kpu/nU9R7uOcuXlX6GgdqjTsc7KrwpQpptW/FjRT373arRtoSIxlNtz0sBJMpiGwuVKrD463Rptl8uFy+Vi8ODBDBs2jE2bNnHXXXfR0dFBOBxm5syZPPTQQyiluO+++9i2bRudnZ3s3LmTmpoaXnzxRcrLy7Esi3vuuYfXXnsNgCuvvJIHHniAaDRKbW0tR44cwe12M2HCBEaOHMnvfvc7du3axVVXXcXOnTu577776Orq4uc//zkAP//5z3n++eeJx+PU1NTw2GOPnTRY9El+wzAoLS094/vnhDVYAwcOZP/+/WzduhWAHTt2sHPnToYNG8Ytt9zCI488AsDq1as5fPjwGZ8iLC4uPuFPrhdXQgghEuzuTrpXvIbd3YFZXu10nPMya+oEnr33TubMGMOz997JrKkTnI50HhRKGRCPgdW7UZtU2LBhA1u2bGHs2LEsWLCADz74gPXr17Nr1y5eeuml469buXIlTz/9NJs2baKqqorHHnsMgF/96ld88MEHfPDBB3z00Ufs3LmThx56iMLCQkaNGsXy5ctpbm7GsixWr14NwJtvvkl9ff1JWZ599lm2bdvG8uXLWbt2LV/60pf47ne/e14/3wnlZXV1NY899hhz587FMAy01vzXf/0X/fv352c/+xm33XYbQ4cOxePx8Mwzz8gThEIIIU6g41G6V79JrLEBV/WglIySpNusqRO4cuxI/H6/01HOnzJAW8embQ1H1mPNnTsXn89HIBDgiSee4MILL+Tuu+9m2bJlaK1pbGxk3LhxzJ07F4Brr732+EjRpZdeyoYNGwBYtGgR8+fPPz6A881vfpNHH32Uu+++m/r6ehYtWsSRI0e45ppr2Lx5Mxs3bmTRokX81V/91UmZXnnlFdasWcPEiROBxGbV5/uAwEkV0pe+9CW+9KUvnfTC6upq3njjjfM6mRBCiNyltSa47j0iOz/G7NPP0cXU4gwMA2wLHYuA8qHS3HH9xRdf5OKLLz7+9U9/+lOam5tZuXIlPp+P733ve4TDn64b+2yTVNM0j6+Z0lqfVMB/8nV9fT133303jY2N3HTTTfTv358333yTpUuX8uijj56USWvN//2//5fbb789aT+nDEEJIYRIiujODYQ/XolRXIbhSW/ncHFq5a44nsAp2gloBVYM5QLl8yemDpOg6hwG+VpbW6mpqcHn83HkyBFeeOEF/vqv//qs33fVVVfx1FNPccstt2AYBo8//vjx6b8pU6awZcsWGhsb+Y//+A/69+/PF7/4RQYOHEhFRcVJx7r++ut56KGHuPHGGykvLycWi7Fx48bjPa/OhRRYQgghzlvsSAPda94C04VZWOJ0HHHMlSXtjLig6tT/UdvoeBjDrzECRY5N595xxx3ccsstjBs3jv79+59yjdSpfOtb32Lnzp1MmJBYFzdjxgzuuOMOILEQfdq0aXR1deH3+xk1ahSxWOy0x77ttttobm5mxowZKJV4CnL+/PnnVWApfbZ+C73U0dFBSUkJ7e3tJzxFmOtaWlrk6aVekOvVc3Ktek6uVe8k63pZXW10vvUiVssRzKqBObHu6i+FQqGsWoO1reEg337oKX7z1JOMGHaGpx4tC2wLo7AYw1eQtPPn6lY5AFu2bOErX/kKv/3tbxkxYsRpX5ebW10LIYRICx2N0L3iDeJNBzAr++dkcZXTTBOUwu7uxI5GnE6TU6TAEkIIcU60bRP8cCnRvVtwVfZHGbKoPSu5XKA1dncHupdNN8XpSYElhBDinES2fUh4yxrM0j4ot/Q6zF4KXG50PIbd3Y4+yx57omekwBJCCNFr0YO7CK5divL4MQJFTscR50splNuDHY1gBzvPuh2eODspsIQQQvSK1d5M98o30LEIRsnJj7yLLKUUyuVCh4PocPfZXy/OSAosIYQQPWZHQnSteB2rtSnRTFQWtecWwwTDwA52YUfCZ3+9OC0psIQQQvSItiyCH7xFbP+OY4va5VdITjJdwCeL3mNJPXRdXR0jRoxg3LhxXHTRRcf3OD4Xr776KnfffXcS0yVXbjapEEIIkVRaa0KbVhHZ+iFmeTXK5XY6kkgllxsdi2J1t2MWlSX1CdFPtsppaGhg9OjRTJ8+nTFjxvT6ONdffz3XX3990nIlmxRYQgghziq2bxuhdctQgSIMX8DpOKKHXPu3EOzcf27frDXasjDcnsR2Oj34FqOoFP/Fl/bo8AMHDmTYsGGsX7+ev/u7v6Ojo4NwOMzMmTN56KGHUEpx3333sW3bNjo7O9m5cyc1NTW8+OKLlJeX89RTT/GnP/2JF198EYBnnnmGX/ziF8RiMYqKinjkkUdO2PMw3aTAEkIIcUbx5sN0r14Eto1ZLJ3ys4kR7sZS0XM/gNbYtoVye1Fuz1lf3puiYsOGDWzZsoWxY8eyYMECCgsLsSyLG264gZdeeom5c+cCsHLlSlavXk15eTm33norjz32GD/84Q9PONZ7773Hc889xzvvvIPX6+Xdd9/ly1/+MuvWrevNT5tUUmAJIYQ4LTvYSfeK17E6WnHV1DodR6SbUqAMdCwKhoEyz79smDt3Lj6fj0AgwBNPPMGFF17I3XffzbJly9Ba09jYyLhx444XWNdee+3xLZ0uvfRSNmzYcNIx//jHP7Ju3TqmTJly/O+ampqIRqN4PGcvDFNBCiwhhBCnpOMxulctInZ4L67q3NxjUPSAYYBtoaMR8KrzXo/1yRqsT/z0pz+lubmZlStX4vP5+N73vkc4/OkTjD6f7/j/Nk2T+Cm6zWutuf3227n//vvPK1syySMgQgghTqK1Jrj+PSK7NmJW9E3KyIXIYoaRWJMVjYBObqf31tZWampq8Pl8HDlyhBdeeKHXx5g9eza/+c1vaGhoAMC2bdasWZPUnL0l7xghhBAnie7aSHjjCoyiMgyv7+zfIDKS7SvALC5MzsGOL3p3o7z+U45oGkWlvT7sHXfcwS233MK4cePo378/9fX1vT7G5z73Of7lX/6FG264AcuyiMVifPGLX2TSpEm9PlaySIElhBDiBLEjDXSveQtMF2ZhidNxxHmIDxhBYNjQ5B1Q2+h4DMNfiBEo6vW08Z49e076u0GDBrFq1apTvv6+++474evvfve7x//317/+db7+9a8f/3revHnMmzevV3lSSaYIhRBCHGd1tSW2wQl2YpZVOR1HZBploAwXOtSNjoScTpPRpMASQggBgI5G6F75JvGmA5hVA2RRuzg10wSlsLs7saMRp9NkLCmwhBBCoG2b4EfvEN2zGVeffknt3C1ykMsF2k5sp2Od/FSfkAJLCCEEENn+EeFNqzFL+6A8XqfjiIynEtvpxGOJIstO7pOFuUAKLCGEyHOxg7sJrl2C8vowAkVOxxHZQimU240dCWMHO9FaO50oo0iBJYQQecxqb04sao9GMEr6OB1HZBtloFwudDiIDnc7nSajSJsGIYTIUzoapnv9UuItR3DVDJJF7eLcGGZiz8JgF5guDI/0TQMZwRJCiLykbYv4xveJNmzHVTUAZcivA3EeTFeiyOruQMdjvfrW5cuXM27cOMaNG8eoUaP49re/TSSS/U8nyjtKCCHyUHjTGuxdGzDLqlAut9NxRC5wu9FWHKu7A3qx6H3s2LGsXr2ajz76iA0bNtDU1MRjjz2WwqDpIQWWEELkmWjDdkLr3gVvAMNf4HQckTMUyuVBRyPoUNdJi97//d//nW9/+9vHv25ra6NPnz6Ew2Hc7kSRH41GCYVCGDkwopr9P4EQQogei7c20b1qEdqKo4rKnI6TFRauWMu9Tz7PwhVrnY6SNgsW/pm7fvhjFiz8c+++USmUy42OhrBD3ScUWd/85jd55ZVXaG9vB+Dxxx/nhhtuoLy8nD179jBu3Dj69OlDcXEx3/rWt5L54zhCCiwhhMgTdjhI98rXsdqPYvbp63ScrLBwxVrm3f8gryxZz7z7H8yLImvBwj9z07zb+O/fP8NN827rfZFlGKDMxCjWZzq9l5aWcvPNN/PUU0+hteaXv/zl8b0F6+rq+Oijjzh8+DCRSISXX345mT+SI6TAEkKIPKAti+Cat4gd2IWrsj9Kye2/J95dv5nKwkpe+sYiKgsrWbZ+s9ORUm7Ju8vwlweY9NBM/OUBli57r9fHUKZ5ykXvd9xxB7/85S/53//9X6qrqxk/fvwJ31dYWMitt97K7373u/P+OZwm7zAhhMhxWmtCm1YR2b4Os7xaFrX3wvQxI2nqauLmX9fT1NXEtDEjnY6UcjOmTyPUEmTN3y0m1BLkimmXn9uB3G60HcfqbkfbFgAjRoygrq6Ov/mbvzk+erVz505isUQRFo1GefnllxkzZkxSfhYnSYElhBA5LtawjdC6ZahAIYYv4HScrDJr6gSevfdO5swYw7P33smsqROcjpRys2ddy8vPPsO3bv0qLz/7DLNnXXuOR/pk0XsUu/vTTu/f/OY3icfjzJ07F4AlS5Ywfvx4xo4dy/jx46muruYnP/lJkn4a50ijUSGEyGHxliN0r1oE2sYsLnc6TlaaNXUCV44did/vdzpK2syede15FFafcWzRux0Jgmli+AtZvHgxf/u3f3v8ycH58+czf/788z9XhpERLCGEyFF2uJvulW9gdbRgVtQ4HUfkK8NAGSYHdu1k5IgRfPTRR9x5551Op0o5GcESQogcdHxR+8FduKpqZVG7cJbpol/fajYufxezuCwv1gHKO06k3auvvsqPf/xjXn31VaejCJGTtNaEPl55bFF7Dcoln6VFBnCdvOg9l8m7LsXCcU2s5zsG5LyFC17l1rk34isP8Oijj/Lci68wa/b1TsfKCAVuMGSzXZEEsYZthNa/hwoUy6J2kUFOXPRuFJbk9AbjUmCl0KGg5pGPbRpD+uwvzhPLf/8W3rIAlzw0k1V3LOanv3+bxZVfdDqW45SCz/dT3HKBIUWWOC/x1ka6Vy0+tqhdOrWLDHOKRe+5WmRJgZUijSHNf31ss6lN018+QB43aOIMNr7wMKvuWEykNcigiVfgNZ1O5bywBS/v1rgNmzl1Rs7ecERqHe/U3tGMq6bW6ThCnJphoLSJDnWjTTfK63M6UUpIgZUCzWHNf22y+bhVM7IM3Ib8svxERf31FD3wB3asXMSQKfUMv2K205EyhsvQvLBL4zFsvlgrRZboHW1ZBD94i9iB3biqBsiidpHZTBfEotjdHSjTzMlF71JgJVlbRPPoJpt1zZqRpVJcncrwK2ZTO7k+r3rK9ES1X2FrzbM7NR5Tc1V/pMgSPRbavJrIto+kU7vIHm43OhbF6u7ALColEo0xYcIEAoEAa9ascTrdeZOPOEnUGdU8tsVmzVHNiFLwmPLLUfRO34Ai4IJnttssPSRr90TPRPfvONapvUgWtYss8smi9wh2dyc/+tGPuPTSS50OlTRSYCVJMA7/vcVmxRHNsBLwSnElztGAAoXbgKe22bx/RB5BFWdmtTfTvXoRWHHp1C4y2gMP/yd/c+f3jn/d1tZOzYXDae3s4t0lb7N96xZuu+02BxMmlxRYSRCOa363x827hzVDS8DvkuJKnJ/aQoUGHt9is7ZF3qbi1OxoONGpvaUJs6Kv03FEDlmw8M/c9cMfs2Dhn5N2zPlf/Sqv/u+faW/vAODJZ37L7FnX4vX5+N5P7uMXP/tn7Fg0aedzmty5z1PU0jy13ebdJpMLiyEgxZVIkrpCiFjwzG4365plulCcSNs2oQ+XEm3YjquyH8qQ23mqLFyxlnuffJ6FK9Y6HSUtFiz8MzfNu43/+e0fuGnebUkrskpLS5hz/XU8/ez/oLXmsSee4m+/OZ977r2Pv/nG7fSvqUGHu0Hnxv1O3pHnIW5rfrvD5s39mtqATaFbiiuRPEopLiyGrrjisc02m1pz46YjkiOyYx3hzR9glvZBuT1Ox8lZC1esZd79D/LKkvXMu//BvCiylry7jMqiKl6a/yaVRVUsXfZe0o793W9/i1898SQLX3+DqqpKxo8dw3vLV/LP/98DDJkwhS/P/zYbNm5k1KhRSTunU6TAOkeWrfn9TpuF+zQDC6BIHtoRKaCU4sJCm5aI5tHNNjvapcgSEDvSQHDtUvB4MQJFTsfJae+u30xlYSUvfWMRlYWVLFu/2elIKTdj+jSaOhu5+fGraOps5Ipplyft2COGDWVQbS3fvetu/vab8wH48P132LHhQ3Zs+JDfPfErLh45gvWrlqOzfCRLCqxzYGvNy3ts/rhX0y8ApV4ZuRKpoxQMK4HDQc0vN9vs7czum444P3Z3J92r3kCHuzFLK52Ok/OmjxlJU1cTN/+6nqauJqaNGel0pJSbPetaXn72GebddhMvP/sMs2ddm9Tjz//qbcTjcW6+4VTbpClAJZqQRkJJPW+6SR+sXtJa86e9Ni/t1lT6oNwnxZVIPUMpRpRqPm5NNLH9u4sN+hXIv718o6043asXEW/cj6t6kPRJS4NZUyfw7L13smTtBmZMGM2sqROcjpQWs2ddm/TC6hNvvfMO/+/823G7T576uWL6NFYuXQzxGHawE2W6snYKXAqsXtBas+iA5rldmlIPVPrl5ibSx1CKi0o1m9o+LbLk32B+CX28isiujzEr+qJM2WMqXWZNncCVY0dKc+TzdPDQIa6+fg5lZWX86333nvnFrkSnd6u7A7O4DGVk3793KbB6YdlhzTPbbQIuqAnILzaRfqaRGMna1JqYLvw/owzKZIo6L0QbthPa8D5GQTGGV37Ri+zTr29fNq5e0cNXK3B50LEodncnRmFJ1o3YyhqsHlrdZPPUNhtDJRpBCuEUt6EYUQofHtX8aotNZ1TWZOU6q6OF4Jq3jjUTLXM6jhDpoRTK5UZHQuhw0Ok0vSYFVg9sbNE8vkUTsWBQodNphEhswzS8BFYc0Ty+1SYUlyIrV+l4NLHuquWINBMVPWYoBWhisZjTUc6PYYAysIOd2LGI02kACIfDALhcZ54ElCnCs9jRnng8vj2a2AIn24YoRe7yuRRDijXvHNb4XDbzhxuyuXiO0VoTWr+c6N4tuPpIM1HRczUVZbiV4vGnn2b+1752ygXlqaRtO4n/XjXEY2C6MAtKHFt/aFkW+/fv5xe/+AWBQIDa2tozvl4KrDNo6Eqsc2kMaUaWSnElMk+BW1FXqFm0XxMwbb48xMCUIitnxBq2Edq0EqOoHOXxOh1HZJFCv49/nv9X/Pjx53l/2TIS7Q/SR2ud5N+ZGiwL5XKjHN7QfOLEiTz66KN4PGd+ulEKrNNoDCWe1NrTqbmoTIorkbmKPYp+BZo/7dP4XTZzBxvy7zUHWB0tdK95G7TGLCxxOo7IQpeMGMLL93+Pw82t2Glu2hkOR/D5kvuhwI5G0B0t+MZchm/ImKQeuycMw6CsrIyKigqMHozOSYF1Cu3RxLTg1nbNRaVgyi8rkeHKvYq4rXl5t6bIrblmgHwoyGY6HiO45i2s1kZcNYOcjiOyWKHfx5AB6V+7FwqFUtLWwmorgs79FJVdirt6YNKPn0wyof8XgnHNf2+2+fCoZkQJuGS6RWSJKr+i0A3P7rB5/4gses9moU2riOzZjNmnr6y7EuIzjJIKdDhIcPVi7FC303HOSN65nxGzNb/ZZvPeEc3QksSTWkJkk/4FCqXgqW0265qlyMpG0YO7CG1YjlFQguHxOR1HiIyilMKs7E/syF6CHy5B27bTkU5LCqxjbJ3YvPnNA5rBRRBwSXElslNdIXTF4L+3yObQ2cYOdhJc8zbEYtLvSojTUKYLs6yayLZ1RHdtdDrOaUmBReJph//dZ7Pg2ObNxR4prkT2UkoxrASOhDS/2mxzKChFVjbQtk3ww6XEmw5gVkq/KyHOxPAXgMtN8MN3iLc2OR3nlKTAAt47onl+l6bUCxWyeXPKbV26gMUP/4CtSxc4HSVnKaUYUQI7OjT/vSXRx01ktsjODUS2r8csq8rKfdeESDezvBqrs5XgmrfQ8ajTcU6S9wXWhhbN08e2wOkr+wum3NalC3jurjlsXPQkz901R4qsFDI/s6XOE1ttwtLtPWPF25oIffQuuD2JT+ZCiLNSSuGq6Eu0YRuhTaudjnOSvC6w9nZqfr3FpiuWWLciUm/3mrfxlgWY/PBMvGUB9nywxOlIOc1jKoYUw7uHNb/bYWPZUmRlGm3FCX6wBKujBbOsyuk4QmQV5fFiFBQT3riS2JEGp+OcIG8LrJZwYqPcA92JJwalZ1B6DJ50JZHWIKvuWEykNUjdxBlOR8p5BW5FbQG8vl/zp302Os0NB8WZhbd+SHTf1kRLBrkPCdFrRlEZOhIkuHYJdiTsdJzj8rLRaCiemDLZ1Jro0m7ITS1thl8xm1sf+AM7Vi5iyJR6hl8x2+lIeaHUqwhbmhd3ayr9msuq5d98Jog3Hya0/j0MX4G0ZBDiHCmlMPv0I3ZwN6GPVxAYf0VGfFjJuwLLsjX/s9Pm/cbEyJVsjpt+w6+YTe3k+pR0+RWnVxNQ7OrQ/GabptyrGVEq//adpOOxxCfuYKd0axfiPCmXG6O4jPDmNXj6DcadAe+pvJsi/HODzWsNmtoC6XUl8s/gImiJJNYeHpb2DY6KbF9HtGEHrgqZGhQiGYyCEohFCH64FB2NOB0nvwqsD5oSUySl3sSUiRD5RinF8FLY1al5cqtNUJ4sdES8rYnQhvcxfAGUJ7kb4gqRr5RSmBV9iR3aQ2iz808V5k2Bta8r0Y4hZkM/accg8pipFMOKYXVTYrrclkXvaaVti9CH72B1tmGU9nE6jhA5RbncGAUlhDetIn70oKNZ8qLA6ogmFrUfCGouLHY6jRDO87kUtYXwRoPmjf1SYKVTdM9monu3YlbUyNSgEClgFJVhh4MEP1qGtizncjh25jSJ25rfbk9sfDu8RJ4YFOITpV5FsQee32WzXjaGTgs72EVo/ftgmhheechDiFRQSmGWVxPbv53o7o8dy5HzBdbr+23ePqS5oCjRdFEI8al+AQjF4TfbbRpDUmSlWmjzKuLNhzHLq52OIkROMzw+cHkIbngfu7vTmQyOnDVNNrRoXtqtKfNAkWzgLMRJlFIMKeFY+wabiCVFVqrEmw4S2fohRnGZ7DUoRBqYZVVYLY2ENq1y5Pw5W2A1hRKL2oNx6BtwOo0Qmcs8VmQtb9S8skc6vaeCtm1CH6/ADgcTj5ILIVJOGQZGcRmR7euIHz2U9vPnZIEVszW/3WGzs0MztFi2wRHibAIuRY0f/rRP88FRKbCSLbZ/R2Jhe1mV3I+ESCOjoAQ73E3o45Vo207vudN6tjR5vcHmvcOaIcVgSqd2IXqk0q+wNfxuh5b1WEmk41FCH68ANIZPhtOFSCelFGZZFdG9W4gd3JXWc59QYLW1tTFu3Ljjf4YNG4bL5aKlpYXGxka+8IUvMHToUC6++GKWLVuW1qA9taVN84c9mnJvYpNbIUTPXVAMe7s0v9thE7OlyEqG6J4txA/vwywgayyaAAAgAElEQVSvcTqKEHnJ8AXAtglvWp3Wtg0n7EVYWlrKRx99dPzrn//85yxdupTy8nJuv/12pk6dymuvvcbq1auZO3cuO3fuxOXKnO0MO6KaZ7bbdMZgZKnTaYTIPqZSXFikee+wZmixzXWDZDH2+dDRCKHNa8B0o1xup+MIkbeMskpiB3cT278Dz6Dh6Tnnmf7jk08+yfz58wF4/vnn+c53vgPAJZdcQnV1dUaNYmmteXmPzabWxCbOss5BiHNT4FaUeeGVvZqdHTKKdT4iezYTbzqIWVbpdBRxHhauWMu9Tz7PwhVrnY4izpHh8YGC0ObVaCuennOe7j8sX76c5uZmrrvuOpqbm7Ftm8rKT28SdXV17Nu377QH7ujoOOFPJJLajRfXHoVF+zUDC8At666EOC/9AtAWgWd32IRlv8JzoqMRwpvXoNweGb3KYgtXrGXe/Q/yypL1zLv/QSmysphZWkX88D6iDdvTcr7Tzu898cQTfPWrXz0+BfiXI0Jne5R74MCBJ3z9/e9/n3vuuedcc55RWxSe2uIhFDHwe2xCoZSc5oxCoXD6T5rF5Hr1nFPXaoAHVh0yeMEd54v90/OJ73y1trY6HeE4a19i7RXlNcScuCn1QDgs78OzeXvtBioLK3npG4u4+df1LFm7gSvHjnQ6VsbL1H9bOhqlbd1yXEWVKJXc5/zKy8tP+PqUBVZ3dze///3vWbUq0ZyroqICgKampuOjWHv37qW2tva0J2poaKC4+NON/7xeL15v8neN11rzh602+2OaUX3A5eDold8vW1/0hlyvnnPiWvmBfobm7RYPUwaaDCvNjpHhv7zJOUFbFh2Hd2H4/bgKi5yOc0byPjyzKyeM5r//tJibf11PU1cTMyaMlmvWQ5l4neyqftjtjRRHu3D3rUvpuU5Zvr3wwguMGTOGESNGHP+7W265hUceeQSA1atXc/jwYaZNm3baAxcXF5/wJxXFFcC6Fnj7YGJq0MniSohcVOOHjhi8sNsmKl3eeyx2aA/xIw0YJX2cjiLO06ypE3j23juZM2MMz957J7OmTnA6kjgPhtePjseJbF+f8qbKpxzBevzxx48vbv/Ez372M2677TaGDh2Kx+PhmWeecfwJwmBc89Ium7iGcq8UV0Ikmzr2VOGHRzVLDmmuHiDvs56I7NoItpVYWCuy3qypE7hy7MiMHJERvWcWlxHdvx1/ezNmaeo+BJ2yQnr33XdP+rvq6mreeOONlAU5F6832Gxq0wyXnSeESBm/S1Hk0fxxr2ZMuaYmIEXWmVgdLcQO7EIVSq8YITKRChRhtTcT3b8DfwoLrKzt5L6vS7OwQVPhA48pN3whUmlgARwKyl6FPRHdvwM72IlRkNlrr4TIV0oplC9AZOdGdDyWsvNkZYGltWbBXpvmMPSVEVshUs5QioEF8N4RzceZ86BextGWRXTnRpTXl/QnlIQQyWMWlWG1NRI7vDdl58jKO8D6Flh+RFNbKA1FhUiXMq8ibMEf98g2OqcTbz5EvK0Jo7DM6ShCiDNQbg/asogd3JOyc2RdgRW1NK/utYnZUCoL24VIq8FFsK5Fs/yIFFinEj/SgI5GUJ7UPDUthEgew19ItGE7OhZNzfFTctQUWtWk2dCiqZPlDUKkXcCl8Bjwv/s0IenwfgJt20T3bT02PSgf/oTIdEZBMXZnK/GmA6k5fkqOmiIRS/PnBo3LSDzZJIRIv9pC2NmheV9GsU5gtR8l3tqEUSCPNQuRDZTbA7ZF7EhDSo6fVQXWykbNtnbNoEKnkwiRvzymIuCC1xo03TEpsj5htRyBaBjllSdvhMgaHi+xQ3tS8nR01hRY4Xhi9MpjgFfaMgjhqIGFsKtTRrE+K370ICgl04NCZBHDV4DV3owd7Ez+sZN+xBRZ26zZ2ZF4clAI4Sy3oShwwZsHNGFZi4W2LWKH9oKMXgmRVZS/AB3uToxAJ1lWFFiWrXnrgMZQMnolRKboXwB7OjUfNkuBZXd3JJqL+gJORxFC9IIyTLTWWO3NST92VhRYm9tgU5tmQIHTSUQybF26gMUP/4CtSxc4HUWcB6+pMFRis3U7z7u7251t6GgYJXsP5qR/evoFrvqHn/JPT7/gdBSRCsrI3wLrncM2MQsK3TJ6le22Ll3Ac3fNYeOiJ3nurjlSZGW5/gXwcatmS5vTSZxldbWhbRtlnnJ7V5HF/unpF3jg9ws4cCTIA79fIEVWDlJeH/GWw0lf6J7xBVZjSLP2qKZKljbkhN1r3sZbFmDywzPxlgXY88ESpyOJ81DkTnR3X9VkOx3FUVZXO8jnv5z05pr1lAUq+OO33qIsUMGiNeudjiSSzPD4sINd6EgoucdN6tFS4MOjmpYIVMjIe04YPOlKIq1BVt2xmEhrkLqJM5yOJM5ThQ9WNUJHNH+nCe2uDjBMp2OIFLhq0hhag83c8KvP0xpspn7SGKcjiWRzudHxWNILrIwez7ZszXtHNAEzsdmsyH7Dr5jNrQ/8gR0rFzFkSj3Dr5jtdCRxnqp8sKVNs65ZM71vfr5PdagLZbqdjiFS4CdfuwWAN1Z9xO2TLzv+tcgdynSBFceOhEjmx6SMLrB2dcKuDk2NPJiTU4ZfMZvayfX4/TLvmwtchsJUmpWNmul9nU6Tflpr7GCnrL/KYT/52i38w19dJ/esXGWa6HgcHQ0n9bAZPUW4uU0TtKBA7ltCZLRKP2xp1xwN5+E0oW2j4zGZIhQiSymVKIWSvelzxhZYttasbtIUuJDOyEJkuDIvtEYSU4X5Ryf+yG1KiKylFJAvTxEe6IaGLk0fWdwuRMYzlcJUsKElDwssbSdqLKmwhMhyeVJgbW/XdMagWNaNCpEVyryJAiuUb1vnaNAygiVEdtM62fVV5hZYOzo0ppLpQSGyRZkH2iKwr8vpJGlmmok1HHZ+9wITIptpADO56ygzssCK25pNrVDscTqJEKKnvCZEbNjblV8jWMowUV4fWJbTUYQQ50DbNiiFcnuTetyMLLAOdENLRFMiBZYQWUMphUvBtvb8KrAADG8AbUuBJURWsi2U6UJ58qDAOhjUBONQKO0ZhMgqxR7Y0Z5oEpxPlL8QbcWcjiGEOAfaioPpwsiHEazGUGI+VNZfCZFdClzQEUtsb5VPzJJymSIUIkvpaATl9mAEipJ63IwssPZ3a9wZmUwIcSYBFwTjiQ9J+cQsKD7WSEcIkW10LIJZUJz7U4Raa/Z0Jm7UQojs4jEVcRsa86yju1FQjFJGYqpBCJFVdDSCWVaV9ONmXIEVsqAzpvHLrhNCZCcF7cndcSLjGUWlKK8PHcmzoTshcoHWmCUVST9sxhVYnVGIWIlHvkVu2rp0AYsf/gFbly5wOopIAQW0R/JtBKsEo6gMOxx0OopIgYUr1nLvk8+zcMVap6OIJNPxOMowcOXDCFZnDKI2eDIumUiGrUsX8Nxdc9i46Emeu2uOFFk5yGNAU3I3pc94Sinc1bXoSJ794Hlg4Yq1zLv/QV5Zsp559z8oRVaOscPdKH9BfkwRdsUhaoFHRrBy0u41b+MtCzD54Zl4ywLs+WCJ05FEknnMxMbP+cZVUQ0KtJaO7rnk3fWbqSys5KVvLKKysJJl6zc7HUkkkQ53Y5b2wfAXJP3YGVdgxWyNDRjyRE5OGjzpSiKtQVbdsZhIa5C6iTOcjiSSzFQQzsMaw9WnH4YvgA51Ox1FJNH0MSNp6mri5l/X09TVxLQxI52OJJJEa42ORvD0vzAlx8+4Z/XituyZmsuGXzGbWx/4AztWLmLIlHqGXzHb6UgiyQwglocFllFUhquiL7HDe5PeT0c4Z9bUCTx7750sWbuBGRNGM2vqBKcjiSTRsQjK48VVNSAlx8/IAkvktuFXzKZ2cj1+v9/pKCIFDJXo5G5rnVcj0Uop3AOGEG3YjtZaGiXnkFlTJ3Dl2JFyz8oxdncHZnE5roq+KTl+xk0R2ki/PiGymSKxE4OVXw8SAuCuHojyBdDyNKEQGU1rjQ514x44FGWmZtF3xhVYbgN0Ht6YhcgViTWU4MrDD0pmeTXuygHYna1ORxFCnIGOhlEeL54BQ1J2jswssJwOIYQ4Z5YGr6nycopMKYVn8Ei0FUfbsjehEJnK7mjBVdkfV59+KTtHBhZYCgXYMoyVs9565Cc8dfs03nrkJ05HESlgafBm3J0lfTz9L8QsLMXuanc6ikgSaTSaW7Rto+MxvIMvQhmpu1ll3G3QZyZGsWSxe25665Gf8O6T/0rrkS28++S/SpGVg+I2FLqdTuEcI1CIp24kdlc7Wj4oZj1pNJp77M5WzMJSPAOGpvQ8GVdgFbsTjQojUmDlpO3v/xl3sZepj1yNu9jL9vdfczqSSLKIBVV5/rCV94JRicXuoS6no4jzJI1Gc4vWGru7A8+FF2MUpLadSsYVWEXuxPRCRJYv5KShl11LrCPCiu+8QawjwtDLvuB0JJFktoYyb/6tv/oss6IGz4AhWB0tTkcR50kajeYWHezE8BfgvWBUys+VcX2wCtzgdymCcRlaz0Wf/84/AbDtvYUMu3nW8a9FbinO4ylCSCx29w4ZQ3TvFuxICMOb50N6WUwajeYOrTVWRwu+oeMwSytTfr6MK7AMpegbgI3ywS9nff47/8Slt/9ImvblIFtrUFCe5yNYAO6+dbj7XUCsYRtGzSCn44jzII1Gc4MOdaE8PrwjJqTlKeeMmyIEqCuEsEwRCpF1uuNQYMoaLABlGPhGTgLThS2NR4VwlNYaq70Zb93IlLZm+KyMLLBqAkp6YQmRhbpjiWl+KbAS3H3r8AwYgt3W5HQUIfKaDnZieP340jR6BRlaYFX5FW4Dovm414YQWaw7Dv0CCq8pU4TwmVEstwc72Ol0HCHy0iejV54LRmGmaN/BU8nIAmtAQWKRbHvU6SRCiN4IxmF4qdMpMourZhDewRdhtR2VvlhCOMDuaMEsLMF/0eS07jCRkQVWsUdRW6RojzmdRAjRU5bWGAoGFcro1WcppfCPmopRUIwtbRuESCttWdjdHXhHTsIsqUjruTOywAK4qFQRijudQgjRU53RRB+7WimwTmKW9sE3YiJ2dzvakid4hEgXq/UIrooafMPGp/3cGVtgDSpUmAritgypC5EN2qKJ9ZOywP3UfCMm4OrTH6vlsNNRhMgLdiQEloV/9GUYvkDaz5+xBdaQEijzQkvE6SRCiJ7ojMGEikQvO3Eyw1eAf+zloLW0bRAixbTWWC1H8AwajmewM933M7bAKvEoRpQoKbCEyAJRS+NSMLw0Y28pGcFTOxzP4IuwWhplwbsQKWR3tGAEivCPnYYyTEcyZPTdcEyFImYjNyIhMlxzBPr4FEOKnU6S2ZRhEBhzOWZRCZb0xhIiJXQ8hg524LtoMq7yasdyZHSBNbxEUexOrO0QQmSulgiMKYcCt0wPno1Z2gf/6MvQkRB2NOx0HCFyitYa6+hBXP0G4x8x0dEsGV1g9S+AoSWKxpDTSYQQpxM79iDK+D5SXPWUd9g4PAOHYTUflhF6IZLI7mpDef0Exs9AebyOZsnoAkspxZQqRdQ+tomsECLjNIWg2q8YVSYFVk8p00VgwhWJ3ljtzU7HESIn6HgMu7MN38hLcFcPdDpOZhdYAKPLlTxNKEQGa4nAJZUyPdhbrvJq/KMvww53y1ShEOfpk6lBd7/B+EZNdjoOkAUFVpVfMbpMcUSmCYXIOMG4xm3A+IqMv5VkJN/w8XjrRmIdPYzWttNxhMhadkcLyhcgMPFKDI/P6ThAFhRYAJfVKAwgIps/C5FRDgXhgmLFRWVOJ8lOianCGZgl5VgtjU7HESIr6WgEO9iFb/RluKsGOB3nuKwosMaUKwYWKg5Jbz4hMoatNd1x+FyNwmXI9OC5MksqCIy/Aqw4dqjL6ThCZBWtbeJHD+IZNMzxpwb/UlYUWF5TMb0G2qPSE0uITNEUhj5emFgpxdX58gy+CO/QcVitTWhLNmEVoqes5iOYJX0omDQT5XI7HecEWVFgAUypMujjS9zUhRDO0lpzJAhTqxV9fFJgnS9lGAQmfA53dS1W0wH5IClED9jBTtA2gYkzMEsqnI5zkqwpsGoCiqlVicXucvMRwlntUSh0w/SarLmFZDzDV0DgkpkoXwC7o8XpOEJkNB2PYbUdxTdiIp46Z/YaPJusujtOrzEocEFHzOkkQuS3g0EYWyFb4ySbu3og/jGXo0Pd2BF5dDpTLFyxlnuffJ6FK9Y6HUWQGGSJNyVaMvjHTkNl6AbzWVVgDS1JLHjf3+10EiHyVzCuMRXM6Gtk7I0tm/lGTMJ74cWJLu+W5XScvLdwxVrm3f8gryxZz7z7H5QiKwNYrY2YhcUUTL4Kw+t3Os5pZVWBpZSifoCBS0FXTKYJhXDCvi4YWaYYm3lLHnKCMk0CEz+Pq6o/1lFZj+W0d9dvprKwkpe+sYjKwkqWrd/sdKS8Zgc7IR4jMGEGrooap+OcUVYVWACjyxLd3RtkFEuItAvFNVrD1f2lNUMqGQVFFFxSj/L6ZSsdh00fM5KmriZu/nU9TV1NTBuTmet98sGn664m4LngYqfjnFXWFVimobh6gEKRmKoQQqRPQxcML1XSmiEN3DWDCIz7HDoSwg7JJ0qnzJo6gWfvvZM5M8bw7L13MmvqBKcj5SWtbeJNB3APuBD/uM+hjMwvX1xOBzgX4yoSG8t+3KoZUep0GiHyQziuiWu4eoDCLaNXaeEdPp54y2HCW9ai3ANRrqy8ZWe9WVMncOXYkfj9mbveJ9dZzYcxi8spmHx1Rq+7+qzMLwFPwWUorh2YGMWStVhCpMeeLrioTDFZRq/SRhkmgYlX4u43mHjTflmPJfKS1dUGQGDSTFxllQ6n6bmsLLAAxlcoxlYo9snOEkKk3CfT8dcOVHhMKbDSyfAVUDD5KsyiUqyWw07HESKt7GgYu7MN/8WX4hk03Ok4vZK1BZZpKGYNNHAb0BGVT3VCpNLeLhhdppjYR4orJ7gqaghMmgm2xupqdzqOEGmhLQvr6EG8F4zCP/rSrGsLk7UFFsDF5TCpMjGKJUPnQqRGR1RjArNqDXly0EGeupH4L56K3dmKHZU9w0Ru01pjNe3HVTWAwCX1GbfPYE9kdYFlKMV1tQaFbmiJOJ1GiNyjtWZfF1xSJX2vnKaUwj/mMryDL8I6ekiakIqcZrU2ovyFFEy+GrMgO7eMyOoCC2BIMUyvSXR3l1EsIZKrJZLYc/C6WgMjy4bnc5FyuQlMvgpX1QAsWfQucpTd3QFWLPGAR/VAp+Ocs6wvsJRSXDvQoNIHh2TrLiGSRmvN/u7EBxjZczBzmAXFFEy9BiNQhNVyxOk4QiSVjkaw2pvxjZyMd8gYp+Ocl6wvsAD6FSSajzaFIG7LJzohkuFgEKr9ilm1sudgpnFX9j+26N2SRe8iZ2jbIn70IN7BFxEYPz3r7zs5UWABXDXA4IJiadsgRDLEbU1zBL4wEPoGsvsml6s8F4zCd/FU7I5W7IgsehfZTWuN1bgfV2V/ApOvQrk8Tkc6bycVWJFIhO9+97sMHTqUUaNG8ZWvfAWA7du3c9lllzFs2DAmT57Mpk2b0h72TEo8iutqFSErsV+aEOLc7emCC4sUM/vlzGewnKOUIjDmcrwXjsJqPoS24k5HEuKcWS1HMAJFFEy9BrOwxOk4SXHSvgs/+MEPMAyDbdu2oZTi0KFDAHz729/mW9/6Fl//+td58cUXmT9/PsuXL0974DO5vFqx7LBiQ4vmojKn0wiRnYJxTdSC2YMURR4ZvcpkyuWmYPJV2F0dxJr246quzfppFZF/rK52sC0Ck2birhrgdJykOeHjaXd3N08++ST/8i//cvxN2rdvXxobG1m7du3x0aybb76Z3bt3s2fPnrQHPhOPqbhhkIHHgNaIjGJlqq1LF7D44R+wdekCp6OIU9jdkdjv89Jq+UWdDT791F+K1Syd3kV2sSMh7M7WRKf2C0Y5HSepTiiwdu7cSUVFBT/96U+ZNGkS06dPZ/HixTQ0NNCvXz9cxzYaVUpRW1vLvn37Tnvgjo6OE/5EIulpVDW6HKb1VTRI24aMtHXpAp67aw4bFz3Jc3fNkSIrwzSHNQEXzKkzZEPnLOLq05fAJTNBgdXR6nQcIXpEW3Gs5sN4LxyNf8xlOTf6esIUYSwWY9euXVx00UX827/9G+vWraO+vp4//elPJ/3gZyteBg48sXfF97//fe65554kxT6z6cWKlcrDrlbo509PkRUKySLTnti+YhHesgCTH57JqjsWs2PlImon1zsdK6Ol69+WrWF3h8E1feNU2XFaWtJy2qRqbc3f4kIXVWENHou18T2wNcrrP+v3hMNy3+opuVa9c7brpbWGpv2oygGooRNp7ehMU7LUKS8vP+HrEwqsQYMGYRgGX/7ylwEYO3YsgwcPZu/evezfv594PI7L5UJrTUNDA7W1tac9UUNDA8XFnzbP8Xq9eL3eZP4sp1UO3BizeHq7xvSQts1p/f6z39Dy3dCp9XzwwiOsumMxkdYgQ6bUy3XrgXRco31dmkGlir8e6afCn72fJP/yJpdP9NR6uokR3rIWV2FRj7YXkfdfz8m16p0zXa/40YMYffpSdOWNuMqr05gqfU6YIuzTpw8zZ87k9ddfB2Dv3r3s3r2b6dOnM378eH77298C8NJLL1FXV0ddXd1pD1xcXHzCn3QVV5+o728wvESxO/uL4pwy/IrZ3PrAHxh91f/DrQ/8geFXzHY6kgAilqYjCtfXKqqyuLjKd8o0EwuFBwwh3rgfbdtORxLiJFZ7MxgmBZPrc7a4AlD6L+b6du3axe23305zczOmafKP//iPzJkzh61bt/L1r3+d5uZmiouLefrppxk16uQFaR0dHZSUlNDe3n7CCJYTVjXaPLjRpsYPxSl+GioUCsmnm16Q69Vz6bhWm9s0I0sVPxhr4HNlb4HV0tKS1yNYn7Dam+l860Ws9hbMqv6nXdsi78Oek2vVO6e7XnaoC7ujhcCkevwXT3EgWfqc1KbhggsuYMmSJSe9cPjw4RnXluFsJlUqplQqlh7WjC7TObeATohkaIto3ApurMvu4kp8yiypoGDK1XQufQWrrQlXWZXTkYRAx6JYrU34LpqM76JJTsdJuZzuImgoxZzBBhVeOCz7FApxEltr9nXDtBrFWBn4ySnufoMJTJwBsWhi81whHKRti3jTATyDhhOYOANlmE5HSrmcLrAAagsVXxiY2KcwJvsUCnGCT/YbvKFO9hvMRd6h4/CNmozV0YIdlafghDM+3QanHwVTrsHw+JyOlBY5X2ABXN3fYKgseBfiBFFL0xqBL8p+gzlLKUVg3HS8F4zCOirb6QhnHN8GZ8o1mEWlTsdJm7wosIo8ihvrFLaGzpiMYgkBsKsTRpYqZvbPi9tA3lIuDwWTr8JdM4h40wG0licLRfpYnW2gbQKXzMRdPfDs35BD8ubOOrlSMaVKsadTOrwL0R7VGCrRsd0vC9tz3vHtdIrKsI4ecjqOyBN2OIjd1YZ/9GV4BufWNjg9kTcFlmkobhxkUOqBI7LgXeQxrTV7uxKbo0/o43QakS6uihoKplwNpivRh0iIFNLxGFbLEXzDxuEffWlervHMmwILYHCx4pqBisYwxGXBu8hTB4NQ6VPcKAvb845n4FAC46ajw93YoS6n44gcpW0bmg/j7n8BgUkzUeZJHaHyQl4VWABfGGBwQZFij9xbRB6K2ZrmCMwaCP0LpLjKR76Rl+AbOQmrtQkdizodR+QYrTVW00FUaR8KL70WwxdwOpJj8q7AKvYobhikiFrQLQveRZ7Z3QnDSxT1srA9bynDIDB+Bp5BI9Ath9G25XQkkUOstiaU14tr/AzMkgqn4zgqL++yl1YrJlYqdnfJgneRPzpjGlvDDYMUBW4ZvcpnyuOlYOo1GBV9sZoOyH1QJIXd3QGxKIGJn8eoyq8nBk8lLwss17EF74UuaI44nUaI1NNas6cz8TTtJZVSXAkwC0twjZ+BESjCajnsdByR5exIGKujBd/FU/AOHet0nIyQlwUWwLASuLKf4kB3YrsQkT5bly5g8cM/YOvSBU5HyRtNYSjxJPYbNA0psESCUdGXwCX1oMHqbHU6TsZauGIt9z75PAtXrHU6SkbSVhyr+RDeCy4mMHa6PDxzTN4WWEopZg006Feg2N/tdJr8sXXpAp67aw4bFz3Jc3fNkSIrDSytORSE+n6KC4rlxidO5KkbiX/s5ejuDuxw0Ok4GWfhirXMu/9BXlmynnn3PyhF1l/Q2ibeuB93zSAKJl+FcrmdjpQx8rbAAqj0K66rVbRHE9uGiNTbveZtvGUBJj88E29ZgD0fLHE6Us5r6IKBhYprBub1212chlIK/6ipeIeNw2o5go7HnI6UUd5dv5nKwkpe+sYiKgsrWbZ+s9ORMop19BBmcQUFl34BI1DodJyMkvd33Bl9FSNKZZ/CdBk86UoirUFW3bGYSGuQuokznI6U0yKWpjMG19UqKnwyeiVOTZkmgUkz8QwYQrxxf6KPkQBg+piRNHU1cfOv62nqamLamJFOR8oYVnszynRRMOUqXOXVTsfJOPnZ/esz/C7F9YMU/7FB0xXTFMrTVSk1/IrZ3PrAH9ixchFDptQz/IrZTkfKabs74aJSxedq5N+1ODPD66dg6jXYb3dhNR3ArBoga2mAWVMn8Oy9d7Jk7QZmTBjNrKkTnI6UEexQFzrcTWDyVXgGDnU6TkbK+wILYFIfxYQ+itVNmlFlTqfJfcOvmE3t5Hr8fr/TUXJaV0yjgOvrFD7Zb1D0gFlSQcGUq+lc8gestiZcZVVOR8oIs6ZO4MqxI+WedYyORbBam/CNmoJvxESn42SsvJ8ihMQ+hdcPMvCb0BKWtVgi+33SlmFiH8WECimuRM+5+9YRmHglxKOJvkZCfIa2LeJNB/AMGkHBhBkow3Q6UpJsEHIAACAASURBVMaSAuuY4SVweU3iiUJpuieyXWsEClxw3SBpyyB6zzt0LL5RU7DaW7AjYafjiAyhtcZq3I+rcgAFU69GebxOR8poUmAdo5TiiwMNyn3QGHI6jRDnTmvN/iBcVqMYXuJ0GpGNlFIExk7He+HFWM2H0Fbc6UgiA1gtRzACRRRMvQazsNTpOBlPCqzPGFComNlPcTgszUdF9moMQ5kHrh1oyCJlcc6Uy03B5HrcNbXEG2U7nXxndbWBbRO4ZCbuqgFOx8kKUmD9hfr+BjV+xSHptyeykK01h4OJXQpqC6W4EucnMVrxBcziMqyjh5yOIxxiR0LYnW34R1+KZ/Aop+NkDSmw/kKlX3HNAGgOg2XLJzaRXQ4HoSaguKq/vLVFcrgqaii4pB4MA6ujxek4Is10PI7VfBjfkDH4x1wmo+K9IHfhU5jR16B/geKAjGKJLGJrTVMYPt8PqgNyExTJ464dhn/sNHSwU7bTySNa28Sb9uPuV0fgknqUKZ2dekMKrFMo9Sr+//buPjiq674b+Pfce/ddWr2uEEISEuIdBEIYoYBtjI1fwhNoPbRJmnjGbvDjdNqO66lniDNN3Mb1eNyZeCaxJ6nTxiHukyZ2g5v4ceskT0xtGmdMY1tpbGqMMSCQAIHQ+8u+3XvP88caGQESK2l3z+69388ME0u7KF8d7t797bnn/s5ttcBgnLNYVDjOjgPzgwJba/iypswSQiCwso3b6biM1dcDPVyO0MbboQVCquMUHJ6Jp3DjfA21RZzFosJgS4kLH81eVXJLHMoCoesIrr8ZngWLYPae5nY6DmcN9wNCQ6htG7fBmSUWWFMo8QrcXiswmOAsFuU/zl5RLmj+YOoW/dJKWH1c9O5UdmwccnwEgbXXw1O3VHWcgsWz8TQ2zxOoCQqcZV8symO2lOiLA1trwA2dKeuM0ghCbbdCGB5YQ32q41CGSTMJq/8cfEtbEFjZxkXtc8ACaxqlPoFbaoD+OPtiUf46HwUqfcCN1Xw5U254axcjsOZ6yNgY7OiY6jhZ9/LBDjy891/w8sEO1VGyKrWo/TQ8CxoRXH8zhM5tcOaCZ+RruL5aQ5VfoIezWJSHpJQ4HwW2zBe8c5Byyr/yutSi9wFnL3p/+WAHPvfIN/DT197B5x75hqOLLKuv56MNv++A5g+qjlPwWGBdQyQgsGU+cCHKPQop//TFgVJf6qYMolwS2keL3muXwDzfDSmduej9V+8cRqQoghfufQWRoghef+ew6khZMbGofcM2GGUR1XEcgWflNFxfraHUl7pUSJRPesaBtohAHbu2kwKaL4DQxluhl0Zg9fWojpMVN6xZgd7RXuz67jb0jvbi+jUrVEfKODsehT0+gsCazfDULVEdxzFYYKWhNgRcF+H2OZRfRpISPp2zV6SWURpBaMPNgNBgjQyojpNx29tb8cOHH8CdN63BDx9+ANvbW1VHyihpmbAunIW/aQ0CqzZyUXsGsS1rGoQQuLFaw697LIwmJYo8PABJvdNjwJpygeXc1J4U89QtRWDNJoy//SqE1w/NF1AdKaO2t7di69oVCASc9XtJKVOL2ucvRPA6LmrPNH70TdPKMmB5qcBp598wQwUgYUlYEripRkDjJ05STAiBwKqN8C1aDauvB9KyVEeiNFgD56GHwghtvA1asEh1HMdhgZUmTQjcUC2QtAGTjUdJsZ4oUBsSaKlgcUX5QegGQtfdAqOqFlZvN28KynP22AhgJhFsvQlGZY3qOI7EAmsGWisFqoMC59iygRSSUmIwAdxQDQQNFliUP7RQcaoJqT8Ee/CC6jg0BZlMwBq6AP+K6+BtalYdx7FYYM1A2CuweV7q1nh+OiNVBuJAqRfYEOHLl/KPZ14dgq1bIBNRVzQhLTQXm4l665Yg0HIDF7VnEc/QM7QhoiFkAKPO7atHee5cDFhdJlDLze0pT/mWtKSakPafg7RM1XHoElbfOeglFQi2bYPm9auO42gssGZoURhYHGZnd1IjaUvYEmifJ/jJk/KW0DQEW2+CZ/5CWL2nOeOfJ+yxYUDaCK7fCqOUzUSzjQXWDGlCYHO1QMzi/oSUe71RYF5AoLmMxRXlN80fQrDtVohAEddj5QFpJmEN9cG/YgO8Dc5rlpqPWGDNQkuFQLkP6IupTkJu0xcH2iJAsZcFFuU/T2QBgutuhIxHYcfYqVmViX5XtYsRWLuZs985wgJrFir9AqvLBC5w6xzKoZgl4dGAlgq+bKlw+Jasha+pOdUfy2Z/LBWsgfPQi0oQ2nAL113lEM/Us7Q+ImDZgMWeWJQjvVFgflBgGTu3UwFJbQq9FUakBtaFs6rjuI4dHQOSCQTWbYFRPk91HFdhgTVLq8o+ukzIWSzKkcFE6vKgT+f0PhUWLVSM4HW3ALoBa2RQdRzXkLYFa+A8fEvWwMd+VznHAmuWynwCayoECyzKiYuXB5vL+ZKlwuSpaURgZRvskQFIk31ucsG6cBZGZQ2C67ZAaDx35BpHfA6aywVMm3cTUvb1xYBIQGBxWHUSotkRQiCwuh2eBYtgXjjD1g1ZZo0OAbqOYOsWaMFi1XFciQXWHCwrESjxAkMJ1UnI6QbiwLoKwM+tcaiACa8PofU3Q/OHYA/1qY7jWNI0YQ/3w798PTy1i1XHcS0WWHMwLwAsKha4wHYNlEWmDQiRWvdHVOiMSA0CzZtgR0chk1xjkQ1W3xl4qhci0MyWDCqxwJoDIQRaKgSivPOYsmgoKVDqBZaEeaIkZ/AvXwdv3RKYfT28VJhh1ugQ4PGlLg362JJBJRZYc7QoLODTgDiLLMqSoaRAQ7FAmU91EqLMEIYXwXU3pi4VDverjuMY0jJhD/fBv7wVRvVC1XFcjwXWHDUWA+U+gYEEZxcoO2IWsKacew+SsxiVNfCvboc9PsK7CjPE6uuBp6oOgVXtPF/kARZYcxQwBFaWpWYZiDIt/lF7hkXFPL7IeQLL18NT0wCrjw1I58oeHwU0DYGWG6D5g6rjEFhgZcTSEgFTgmsJKOOGEkDYI9HAu6zJgYTHi+Ca6wHDA3tsWHWcgiVtG9ZgL3xNq3nXYB5hgZUB9UVch0XZMZQAFoZshDycwSJnMuY3wL9kLayhPkjbVh2nIFmDvdBLKnjXYJ5hgZUBdUWpWQb2w6JMi1nAkmLOjJJzCSHgX/0J6KURWIO9quMUHJlMQMajCDR/AnoxNyrNJyywMiBoCDSEbAxxnSZlkGlLaAJYEOCnenI2PRRGYPVGyHiMC95nyOo/B8/8BviaVquOQpdhgZUhjUWSlwgpo0aTQLEHmB/gDBY5n69pNTzz62H196iOUjDs2HhqYfvqdgjDqzoOXYYFVoZUB2wIcF9CypyRZGpT8UofjylyPmF4EVjVDkCkCgealpQS1sB5eBcuh2dBk+o4dBUssDKk2i8RNIAxU3UScoqRJNAUBjSuWSWX8NQuhrd+KddipcEeG4bmDyKwaiOExrfyfMR/lQyp8kuEvQKjXD5AGWJLYGERqytyD6Fp8K+4DsLwwo6Oqo6Tt6SUsIf74W1cBaNyvuo4NAUWWBni1YCaIGewKDMuXmqeF1AchCjHjHn1H81iXWBvwSnYY0PQgkXwL29VHYWmwQIrgxqKgRgLLMqAcRMIGkBVgDNY5C5CiNQsltcPGR1THSfvpGavBuBraoZRVqU6Dk2DBVYGVfPNkDJkzARCBhDxq05ClHtGZAG8dUtgDfepjpJ35PgItEAIviVrVUeha2CBlUGVfgFNpPoXEc1F1AQiAYGAwaKd3EcIAd+SNRC6ATseVR0nr1jD/fDWL4NeGlEdha6BBVYGlfuAgA5E2Q+L5mjcBBZwv1ZyMU/1QhjV9bCHLqiOkjfs2DiExwvf4jXcEqcAsMDKoAo/EDBSsw9Ec2FLoDrIEyi5l9B0+Je0ALYNafGkCgD2cB881Q0wqmpVR6E0sMDKoIAhUOYTnMGijCjzqU5ApJZnwSJo4QrYIwOqoygnLRPSsuBrWsW+VwWC/0oZVh3gnYQ0Nxf3ICzzcQaL3E3z+uFrXAl7fNT1LRvskUHo4XJ4ahapjkJpYoGVYVUBIMm9eWkO4hbg14ESbi1GBG/9UghfANLl2+fY0VF4G1dA83NxZqFggZVhpT4BcOKB5iBmAT4WWEQAAL2iGkblfNijQ6qjKCMTcQjDA++Cxaqj0AywwMqwEi8Ad89k0xzF7dR6vmKP6iRE6gkh4K1fCmkmXHuZ0Bobgh4uhxGpUR2FZoAFVoYVe1K9sCz2wqJZSlhAqRfQeBs2EQDAM68+1dndrT2xYuPw1C+F0A3VSWgGWGBlWJGR2pcwwXVYNEsJO9VTjYhS9LIqGGUR2GPDqqPknDSTgKbDW71QdRSaIRZYGVbkAbw6CyyavYSV6qlGRClC0+CpWQSZiKuOknN2dBQiWAS9Yr7qKDRDLLAyrMjz0QwWe2HRHIQ9vDxIdCmjYh6EAKTtrpOrjI7BE1kAzcdPXYWGBVaG+XXAqwm2aqDZE0CQSy2IJtHLqyH8Icioy9o1WCaMeXWqU9AssMDKMCEEwl72wqI5kCywiC6nhcLQi8tgx91TYEnLBDQdRlmV6ig0C1cUWA0NDVi+fDlaWlrQ0tKC559/HgBw9OhRbNq0CUuXLkVbWxvee++9nIctFMUeIMmbCGkWLt6GHjR4iZDoUkII6BXVgIvWYclEDMLnh1ZcqjoKzcJVPyfv27cPq1evnvS9L37xi7jvvvtwzz33YN++fdi9ezfeeOONnIQsNCWcwaJZMiVgaKlNw4loMqO0EjHpnpOrjMeg+UPQgmHVUWgW0rpEeP78eXR0dOCuu+4CAOzatQsnTpxAZ2dnNrMVrCIPYLnnHDBjRw68hP1PPoQjB15SHSXvmDZgiNRaPiKaTCsqgRAC0nbHCVYmYtDLq7i5c4G66r/a5z//eTQ3N+Pee+9Fb28vurq6UFNTA8NIfawWQqC+vh6nTp2a8gcPDw9P+hOPu2daN2hwu5ypHDnwEp578E4cemUvnnvwThZZlzHt1AwWCyyiK2mBIsDwAGZSdZSckJYJrbhMdQyapSsuRPznf/4n6uvrkUwm8ZWvfAV33303/vZv/xbisq7S19qyoK5u8l0Pe/bswZe+9KUMRM5PAwMDE/+dHNeRSHgQjbrjU9ZMHD34CnxlQbQ9eQt+c/9+fPhfr6C+bZvqWHljNAFYlsD4cBz9sdT3Lj22aHocq5kptPGSsTgSpg2MjULk+DJBLBbL6f8fANjJJGTSQry/P+f/33NVaMdWJpSXl0/6+ooCq76+HgDg8XjwwAMPYOnSpairq0N3dzdM04RhGJBSoqura+K5V9PV1YVw+OPrxj6fDz6fs9tTXxzciqgN31kbgQCnsS63pH0b3v7xt/Cb+/cjPjCOxRu3IRAIqI6VN0YhEZLA/MogApcsdL/8hUtT41jNTCGNlwwXYSAUAiCgKzhv5PpcZXq9KKqcB18B/RtdqpCOrWyYdIlwbGwMg4ODE1//6Ec/wrp161BVVYV169bhBz/4AQDghRdeQENDAxoaGqb8weFweNIfpxdXl/JpgEv3JL2mZVt24LNP/ATNt/4xPvvET7Bsyw7VkfKKJQFdpJrVEtFldA80jxewTNVJsk5KCSklhNc9751OM2kG69y5c9i1axcsy4KUEosWLcI//dM/AQC+853v4J577sFjjz2GcDiMZ599VkngQuDl+plpLduyA/VtnLm6Gkum1vDpGmc/iS4nhAB0wx2fYKUEhAB0vqEUqkkF1qJFi/Db3/72qk9ctmwZ2zKkyaen3hxtKaEJvlFS+kzJBe5E0xG6AQl3FFhCaBCC09mFiv9yWeARqcs8lgvOAZRZls0eWETT0nTADW0aLs5gafzEVahYYGWBVwd0DbBZYNEM2ZzBIpqebaUKD6cTSBVZLmqs6jQssLLAq3EGi2bHkoCfM1hEU5LJBIQbZnU0HdK2IV3S88uJWGBlgYcFFs2SJYGAC947iGZjouBwQWfzVO9JCWk6/45Jp3L+UaqARwM0wUuENHO8REg0NWkmIG3LXeuSzITqBDRLLLCywKtzBotm7+JdqEQ0mYyOAWYSwvCojpITAgJ2bEx1DJolFlhZwBksmgsPX5VEV2XHxlNrsAyv6ig5IQVgjw2rjkGzxFN5FkysweLNHzRDAiywiKZiR0chLcs1zTeF4YU17L49/ZyCp/IsMERqBstSHYQKjgQLLKKp2KNDAORHC8CdT3i8sIb7IV2wNZAT8VSeBUII+HTBS4Q0Y0KwwCKaitl/zlUL3IUvADs2DmuEs1iFiKfyLPFrXOROM8cZLKKrk7YF68JZaD737GEqvH4gEYM93K86Cs0CT+VZ4je4BmsqRw68hP1PPoQjB15SHSXvSJlqVEtEk9kjg7BjYxBuKrA0DVJKWEMssAoRT+VZEtB5F+HVHDnwEp578E4cemUvnnvwThZZl5BSQgDwsk0D0RXM/nOwY+OuKrAAQBgeJHtOqo5Bs8ACK0t8Bi8RXs2Jt16FryyItidvga8siM63X1MdKW9YMnX3qYf1FdEVzN4zAASEC7q4X0oEimD29cAeH1EdhWbIXUdqDgV1FlhX03jdVsQHxvGb+/cjPjCOhvU3qY6UNy4WWF73rOElSou0LSTPnoDwu2v2CgC0QBFkdAxmX4/qKDRD3FY2S0IeAUuywrrcsi078NknfoIP/+sVLN64Dcu27FAdKW9YEtA1wMcCi2gSa6AX1sgAtKJS1VFyTug6pLSRPN8Nb90S1XFoBlhgZYlXSzWNpCst27ID9W3bEAi479PodEw71UONi9yJJkv2nIRMxFJ31bmQ8AeR7PoAcu31rtkmyAl4Ks8SzkLQTF28RMhjh+hjUkokTn0A4fG5psHo5fRQCazhAZgXzqiOQjPAAitL+CZJM2XavERIdDlrsBdm/zlooRLVUZQRXh+kmUTyLO8mLCQssLLEzzdJmiFTpi4R8tgh+ljy9HHI2DiEP6g6ilLCH0Si8zBkMqE6CqWJBVaW+PVUV27Jhe6UJtMGAoaA5tLLIESXk5aJ+PH/gfAFXHt58CK9uAzW0AX2xCogLLCyxK8LGIKtGih9pgSKuH6VaELy3ClYA+ehh8tUR1FOGB5ASiROHlEdhdLEAitLAgZgaKlZCaJ0mDZQzAKLaELi5BFIy4Tw+FRHyQuiqBSJ7g9hjQyqjkJpYIGVJUEjtWlvkgUWpSlpA6Ve1SmI8oM1MoDEySPQit3X+2oqWqgY9tgwEqc4i1UIWGBlCQssmilbAmGvu9eZEF2UOHkE9tgwtFBYdZS8IYQG4Q8ifvR3kIm46jh0DSywsuRigZVggUVpEiJ13BC5nUzEEf/wHQh/EELwbepSergc1mAvEqePqY5C18AjN0s8mkDIEJzBorRJCYRYYBEh0XUU1kAv9HC56ih5J9XJXaRmsWxLdRyaBgusLCrzcQaL0iOlhARQ7OElQnI3aVmIffBbQNe5LcwUtNJKJHtOsmVDnmOBlUWVfiDBDxiUhqSd2oOQbRrI7ZKnj8E83wW9pFJ1lLyl+QKpHmEf/I69FvMYC6wsKvMJmDz2KQ1xG/DqLLDI3aRtI/bBfwNSQnjZmmE6ekkFEt0fcn/CPMYCK4vCHoAXfCgdcQvwaaljhsitkj2dSJ45Dq00ojpK3hP+EGQihviR33IWK0+xwMqiEi+3y6H0xC0gaAjOYJFrSdtG/P0OwDKh+QKq4+Q9IQT0cDkSJ9+H1dejOg5dBQusLCrxCvbCorTELCASgOv3WyP3Ms+dQuL0Mc5ezYAIFsOOjaduCqC8wwIri0q8qU2f41zoTtcQs4B5/NBOLiVtG7EjHZBmEpo/qDpOwRBCpNZidR6GyVmsvMMCK4vKfEBAB6IssOgaJICqAGevyJ3Mc6eQ6DoKnbNXMyaCxbCjY4gdeZvLUfIMC6wsChgCZT6BqKk6CeUzKSWkBMp50xS5kLRtxA6/CXD2alYmZrFOHIbVd1Z1HLoEC6wsWxDiDBZNz5SAIYByH2ewyH2SZzuR6Obaq7kQwWLY8Shi73dwFiuPsMDKsvlBAZOL3Gka42ZqD0LOYJHbSNtC7PBbqTsHOXs1axdnseKdh2H2nlYdhz7CAivLIn62aqDpjZtAyCNQ6VedhCi3kqePI3n6GLSyKtVRCp4IFEEmYoi9z7VY+YIFVpZFAgJejXsS0tTGTKA2BBgaLxGSe0jro9krKdn3KgOEENBLK5E4eQTmuVOq4xBYYGVdxJ+6/DPOhe40hZgJ1BepTkGUW8nuD5E8cwJaGddeZYoWKII0E4gdfgvS5qd61VhgZVmZDyj1CYwmVSehfCUBVLNFA7mItExED78JCEDz8tp4JumlESS6PoTZc1J1FNdjgZVlmhBoCoMFFl1VwpLwaEB1kAUWuUfi1Acwe05CL+Xaq0zT/EHASiLKWSzlWGDlwMIiAYtrDukqRpJAsQeYzxuoyCWkmUTs/bcATYPw8tbZbNDKqpA8fQzJMydUR3E1Flg5MD8oIARg2ayyaLLRJFDhFyj1qk5ClBuJrqMwz3Vx9iqLNF8AsK3UHYWcxVKGBVYO1ARTsxQjvExIlxk1gaUl3OSZ3EFa5kezVzqEh58qskkrjSB55jiSZztVR3EtFlg5UBUAKnwCwyyw6BJSStgSaCxmcUXukDj1wUezV5Wqozie5gsAlslZLIVYYOWAJgSWl3IGiyaLWYBfB2pDLLDI+aRlIXbkbUBoEB6uvcoFrTSSWovV06k6iiuxwMqRhmIBW7KjO31sKAGEvan9KomcLnn6GMyeLujcczBnUncUmoh/8N9871GABVaOLCwSCOjc+Jk+NpQAFocFggZnsMjZpG0jduS3AMA7B3NMK6lAovsY9yhUgAVWjtQXAWV+gYG46iSUL+I2sLKMxRU5n3nuFJJnT0Dj2qucE/4QZCKG+Ie/Ux3FdVhg5YhXF1hVmpq1IIpZEj4NaChigUXOJqVE7OjvIC2Tew4qIISAVlyW2qNwsFd1HFdhgZVDS0pSDUd5LZwG40C5T2BhseokRNllDV5AsvtD6MVlqqO4lhYKwx4fReLEYdVRXIUFVg4tDguEDG6bQ0B/HFhZBq6/IsdLnHgPdnQMIshPE6oIIaAFixE/dgh2bFx1HNdggZVDtaFUV/d+rsNyNSklLMn1V+R8dmwM8eOHoAWL2UxXMa24DNZwHxJdR1VHcQ0WWDmkawItFWDDUZe7uP/g4jDfcMjZkqePwxruhxYu7MuDLx/swMN7/wUvH+xQHWXWhK5D6Abix95l49EcYYGVY8tKNRgCSHD3Z9e6EANqQoL9r8jRpJSIH/8fCN2A0HTVcWbt5YMd+Nwj38BPX3sHn3vkGwVdZGnhcpgXzsDsO6s6iiuwwMqxpSWpzX37eJnQtUaTwIbKVId/Iqey+s8heb4bWnGp6ihz8qt3DiNSFMEL976CSFEEr79TuAvFhS8AGY/xMmGOsMDKsSKPwNoKcB2WS42bEn4DWFHGlx45W+L0McjYOIS/sKdqb1izAr2jvdj13W3oHe3F9WtWqI40axcXuydOHIZM8E0o2wzVAdyouVzgl90Sli2ha5zFcJMLsdSNDk1h1UmIskfaFhInj0D4AgW/uH17eyt++PADeK3jXdzU2ozt7a2qI82JVlQCq68HyfPd8NY2qY7jaCywFFhRKlDhB/riQBX77rnKUAK4rRbwsLAmBzP7emAN9kJzSO+r7e2t2Lp2BQKBwj9hC8MDaVtInu1kgZVlvE6hQJlPYG2FwIWY6iSUS+Nmqnv7mnK+7MjZzJ5TkIk4hNevOgpdhRYoQuLUB5BJbi2STTzTK9JaISABmDbvJnSL3iiwICSwpER1EqLskVIi0fUBhNdf8JcHnUoLhWGPDvJuwixjgaXIqjKBiF+g14WzWEcOvIT9Tz6EIwdeUh0lZ6SUGEoA7VW8PEjOZo8OwhrqgxYsUh2FpiA8XkjLhNnXozqKo7HAUqTYK7AhAvS5rMA6cuAlPPfgnTj0yl489+CdrimyRpJAkQdoqeRLjpzN7OuB7YC7B51OGB4kz3SqjuFoPNsrdF1Eg0cDoqZ7LhOeeOtV+MqCaHvyFvjKguh8+zXVkXKiJ5ra7LuR27GRw5m9ZwApITS+veQzESiC2d8De3xUdRTH4itAoeWlQH2RQE9UdZLcabxuK+ID4/jN/fsRHxhHw/qbVEfKOltKxC1g0zzB5qLkaFJKmOe7ubi9AGj+IGRsHNZwn+oojsUCSyGPJrC5WmAkkToxucGyLTvw2Sd+guZb/xiffeInWLZlh+pIWdcbAyp8wNoKFlfkbDIehTU6COEr/HYGTicMD6RlwhruVx3FsdgHS7HrKgVe7Ex1dq9wyYe+ZVt2oL5tmyN6yqSjNwrcXidQ6WeBRc5mDfdDxqPQSyOqo1AahBCwBi+ojuFYnMFSrCYksK7SXZcJ3WQsKeHVgE9U8aVGzmePDgJmEjA8qqNQOjw+3kmYRTzr54FPVGnQBBBz0WJ3tzg7DjSFBZYX9n63RGmxo2OQAPtfFQjh8cIeG4a0LdVRHIkFVh5oLgcaigTOjKtOQplk2RJRC9hSI2Cw9xW5gD0+Ah7phUMYHshkAjLGN59sYIGVB7y6wM01AqMmYLlksbsb9ESB6qDAhgjfcsgd7JFBXh4sJIYH0kzCjo6pTuJILLDyRFuVQHVA4BzXYjmClBIXYsAN1UCJlwUWuYMdGwd03jtVKIRuAJbJPQmzhAVWnijzCVw/D7gQc0/LBifrjwOlXmDTPL7EyD2kmYAQPOYLhtAgpQ1pm6qTOBJfCXlkc7WGEk/qzZkK29lx4LqIQB13CyEXkaYJsIN74RACQkrA4iL3bOArIY/UF6UuFZ7lesOCNpyQ8OvA1hqNd1ORa0jbBmwL4DFfMIQQkBCQFmewsoEFVh4RQuCm+Rr8eupNmgrT6XGguYKtGchlbfss1AAADIJJREFUhEjNXnGJQ8GQUkJAQmi66iiOxAIrzywrBdZUCHTzpo6CFDUlBICba7jvILmLEALC8AC2rToKpUtKSCEAgzcmZMOUBdbXvvY1CCFw6NAhAMDRo0exadMmLF26FG1tbXjvvfdyFtJNNCGwbUGq8ehYkp8EC82pUWB5qUAL9x0kFxKGF1KywCoY0oYQGoTGAisbrlpgdXR04ODBg6ivr5/43he/+EXcd999+OCDD7Bnzx7s3r07ZyHdZm050Fwm0MVZrIISMyUsCdxeK+BhY1FyIc0XALiep3BYFqDrEB6v6iSOdEWBFY/H8Wd/9mf49re/PbFA9/z58+jo6MBdd90FANi1axdOnDiBzs7OnIZ1C10TuK0uNfbjDtw+58iBl7D/yYdw5MBLqqNk1KkxYFmJwPpKFlfkTlq4zJEF1ssHO/Dw3n/Bywc7VEfJKGkmIAwvtABvd86GK+YFH374Ydx1111obGyc+F5XVxdqampgfHSdVgiB+vp6nDp1Cg0NDVf9wcPDw5O+9vl88Pl8GYzubOsqBHY1CpR6gZDHOW/Yv/rF/8VzD94Jf1kQb//4W3j82Z/ghtt3qo6VEc3lAk1hAa/unH8vopnQgsWO6+P38sEOfO6RbyBSFME//tt+/PDhB7C9vVV1rIyQyQSExwvhD6qO4kiTCqw33ngDb775Jh5//PErnnj57ebXehHV1dVN+nrPnj340pe+NNuceW9gYCDjP/MWB96F9n/e+AUC5UFc981b8NZf7MfJg/8P//tTN6qOlRHLS1L/29+f2Z+bjWPLqThWM5Pp8bKSNsxkAsnxcce0KHm1411EiiJ44d5XsOu72/Bax7vYunaF6lgZYY+NQi+vxsDgUMZ/thtfi+Xl5ZO+nlRgHThwAO+///7E7FV3dzduv/12PPbYY+ju7oZpmjAMA1JKdHV1TVqjdbmuri6Ew+GJr90wg3X54NKVPvnJT+Lpp5/GW3+xH9H+cdxxxx0ctzRwjNLHsZqZTI5X0qrHcCAE3aNDeJxxvt/a2ox//Lf92PXdbegd7cVNrc0IBAKqY2WEOSjhr21AKEuvGbe/FietwXrooYdw5swZdHZ2orOzE7W1tfjFL36Bu+++G+vWrcMPfvADAMALL7yAhoaGKS8PAkA4HJ70x+nFFaVn586dePHFF3HPZ+7Giy++iJ07nXF5kIgAPVwB4QvCjjtnU9Xt7a344cMP4M6b1jjr8qCUkAD00ojqKI6V9r2Z3/nOd3DPPffgscceQzgcxrPPPpvNXORgO3fuxPXXX+/6TzdETqP5/NBLK2CePw0UOWeNw/b2Vmxdu8IxM1cAADMJYXigl1SoTuJY0xZYl94luGzZMrzxxhvZzkNERAXMiNQiefq46hh0DXZsDMIfZIGVRezkTkREGeOJ1EAIjfvb5Tk5PgrPvLpU7zLKChZYRESUMUakBiJYBDs6qjpKxjitD5aUEtK24KleqDqKo7HAIiKijNH8IXiqaiGj46qjZMTFPlg/fe0dfO6RbziiyJLJODRfAEZkgeoojsYNiIiIKKNCm/8XQoYXTuiE9V+/eBuR4iq8sPuX2PXMrfjNMPDZ2z+vOtacXWwyStnDAouIiDJK8/pVR8iYm2++Gd/85jex65lb0TtyHlu3boXQCv/ij/A5598oX7HAIiIimsLF3n0///nPcccdd7B3H6WNBRYREdE02LuPZqPw5zmJiIiI8gwLLCIiIqIMY4GVAfF4HH/3d3+HeDyuOkpB4Hilj2OVPo7VzHC80sexmhmOV4qQUspM/sDh4WGUlJRgaGgI4XA4kz86b7nxd54Ljlf6OFbp41jNDMcrfRyrmeF4pXAGi4iIiCjDWGARERERZVjG2zRcvOI4PDyc6R+dty7+rm76neeC45U+jlX6OFYzw/FKH8dqZtw8XsXFxRAitYdBxtdgdXd3o66uLpM/koiIiCjvXbruLOMFlm3bOHPmzKQqjoiIiMjpsjqDRUREROR2XORORERElGEssIiIiIgyjAXWNRw9ehSbNm3C0qVL0dbWhvfee++K5zz++ONoaWmZ+BMOh/GXf/mXAIDXXnsNwWBw0uPRaDTXv0ZO3H///WhoaIAQAocOHZryeY8++iiamprQ1NSEr371q2k/5iTpjNXzzz+PdevWYfXq1WhubsZTTz018RiPq8m+//3vo7S0dGIstm7dOulxtxxXQHrjxXNWSiwWw+///u9j6dKlaGlpwR133IHOzs6rPveZZ57BkiVL0NTUhPvuuw+maab1mFOkO1b/8R//gY0bN2LlypVYvXo1/uqv/mqiu0BnZycMw5h0bB07dizHv0kOSZrW1q1b5d69e6WUUv74xz+W7e3t0z4/Ho/LiooK+dZbb0kppXz11Vfl+vXrsx0zLxw4cEB2dXXJhQsXynfffXfK56xcuVKOjo7KWCwm169fL3/+859f8zGnSWesXn/9dXn27FkppZSDg4OyqalJvv7661JKHleX27t3r9y1a9eUf98tx5WU6Y3Xpdx8zopGo/Lf//3fpW3bUkopn3rqKXnrrbde8bzjx4/L+fPny56eHmnbttyxY4d8+umnr/mYk6Q7Vh0dHfLYsWMTf2fz5s3yn//5n6WUUp44cUJWVFTkLrRinMGaxvnz59HR0YG77roLALBr1y6cOHFiyk84APDTn/4UtbW1WL9+fY5S5o8bb7wRtbW10z7n+eefxz333INQKASfz4cvfOEL+NGPfnTNx5wmnbHavHkzqqurAQAlJSVYvnw5Tpw4kYt4eSWdsZqOm44rYObj5eZzlt/vx/bt2yfu+mpvb8fx48eveN6+fftw5513Yt68eRBC4E/+5E8mjqHpHnOSdMdq3bp1WLRo0cTfaWlpuerz3IAF1jS6urpQU1MDw0j1YxVCoL6+HqdOnZry7zzzzDPYvXv3pO8dOXIEra2t2LBhA7797W9nNXO+O3XqFBYuXDjxdUNDw8R4TveY27333nt44403cPPNN098j8fVZAcOHEBLSws2b96Mffv2TXyfx9X0eM762JNPPokdO3Zc8X2et6401VhdqqenB/v27cP27dsnvjc8PIwNGzagtbUVjzzyCCzLynZUZTLeyd1pLu/lJafpatHV1YXXX3990qeX1tZWdHd3o6SkBN3d3di+fTsqKyvx6U9/OmuZ892lY3r5eE73mFt1d3fj937v9/D000+jpqYGAI+ry33qU5/Cpz/9aQSDQRw+fBi33XYbamtr0d7eDoDH1VR4zvrYY489hqNHj+Lpp5++6uM8b33sWmMFpAqpHTt2YM+ePWhtbQUAzJ8/H93d3aiqqkJ/fz8+85nP4IknnsCePXtyFT2nOIM1jbq6OnR3d08sWJRSoqurC/X19Vd9/t69e7Fz506Ul5dPfC8cDqOkpAQAUFtbiz/6oz/Cr371q+yHz1P19fWTLrGePHlyYjyne8ytzpw5g23btuErX/kK/vAP/3Di+zyuJqusrEQwGAQArFixAtu3b8evf/1rADyupsNzVsrXv/51/Ou//it+9rOfTRxHl+J562PXGisAGBkZwR133IGdO3dO3DwBAD6fD1VVVQCA8vJyfOELX3D2saVw/VdB2LJly6RF7hs3brzq82zblo2NjfKXv/zlpO+fOXNGWpYlpZRyeHhYbtq0ST7zzDNZzazadItrX331Vblq1apJC45/9rOfXfMxp5purM6cOSOXL18uv/e97131MR5XH+vu7p74756eHrl48WK5f/9+KaU7jysppx8vKXnOuuiJJ56Qra2tsr+/f8rnHDt27IqF7H//939/zcecJp2xGhkZkZs2bZJ/8zd/c8Vj586dk4lEQkopZSwWk3/wB38gv/rVr2Ytr2ossK7h/fffl+3t7XLJkiVy/fr18tChQ1JKKT/5yU/KN998c+J5r7zyimxoaJi4w+Kip556Sq5cuVKuWbNGrly5Uv71X//1Fc9xij/90z+VCxYskLquy3nz5smmpiYp5ZVj9bWvfU02NjbKxsZG+eUvf3nSz5juMSdJZ6zuvfdeGQwG5dq1ayf+XCy2eFxNHqsvf/nLcuXKlXLt2rWyublZfutb35r0M9xyXEmZ/uuQ5ywpu7q6JAC5aNGiiddYW1ublFLK3bt3yxdffHHiuf/wD/8gm5qaZGNjo9y9e/dEoXCtx5wi3bF69NFHpWEYk85bjz76qJRSyhdeeEGuWrVq4tj68z//cxmLxZT9TtnGrXKIiIiIMoxrsIiIiIgyjAUWERERUYaxwCIiIiLKsP8Pi8iM60UF7xEAAAAASUVORK5CYII=\" />"
      ]
     },
     "execution_count": 10,
     "metadata": {},
     "output_type": "execute_result"
    }
   ],
   "source": [
    "violin(men, opacity=0.5, label=\"Panowie\")\n",
    "violin!(women, opacity=0.5, label=\"Panie\")\n",
    "scatter!(ones(men), men, marker=(1.0, 2))\n",
    "scatter!(2*ones(women), women, marker=(1.0, 2))\n",
    "# savefig(\"/tmp/plot.png\")"
   ]
  },
  {
   "cell_type": "markdown",
   "metadata": {
    "collapsed": true,
    "run_control": {
     "frozen": false,
     "read_only": false
    }
   },
   "source": [
    "Stajemy przed następującymi problemami:\n",
    "1. Porównujemy (potencjalnie) dwie populacje których nie znamy ani średniej ani wariancji/odchylenia standardowego (**o których zakładamy, że są normalne**)\n",
    "2. Próby są różnych rozmiarów\n",
    "3. Próby mają różną wariancję"
   ]
  },
  {
   "cell_type": "code",
   "execution_count": 11,
   "metadata": {
    "ExecuteTime": {
     "end_time": "2017-12-02T23:21:20.406000+01:00",
     "start_time": "2017-12-02T22:20:07.171Z"
    },
    "run_control": {
     "frozen": false,
     "read_only": false
    }
   },
   "outputs": [
    {
     "name": "stdout",
     "output_type": "stream",
     "text": [
      "mean(men) = 59.083333333333336\n",
      "mean(women) = 61.785714285714285\n",
      "std(men) = 11.602964615941389\n",
      "std(women) = 13.156914364865175\n"
     ]
    },
    {
     "data": {
      "text/html": [
       "<img src=\"data:image/png;base64,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\" />"
      ]
     },
     "execution_count": 11,
     "metadata": {},
     "output_type": "execute_result"
    }
   ],
   "source": [
    "@show(mean(men), mean(women))\n",
    "@show(std(men), std(women));\n",
    "plot(Normal(mean(men), std(men)), opacity=0.5, fill=(0,), label=\"Panowie\")\n",
    "plot!(Normal(mean(women), std(women)), opacity=0.5, fill=(0,), label=\"Panie\")"
   ]
  },
  {
   "cell_type": "markdown",
   "metadata": {},
   "source": [
    "## Próby o równej liczności i równej wariancji:"
   ]
  },
  {
   "cell_type": "markdown",
   "metadata": {},
   "source": [
    "**UWAGA**:\n",
    "Ponieważ nasze dane nie spełniają założeń powyższego testu (próby są różnej wielkości):"
   ]
  },
  {
   "cell_type": "code",
   "execution_count": 12,
   "metadata": {
    "ExecuteTime": {
     "end_time": "2017-12-02T23:21:20.644000+01:00",
     "start_time": "2017-12-02T22:20:07.182Z"
    }
   },
   "outputs": [
    {
     "data": {
      "text/plain": [
       "(12, 14)"
      ]
     },
     "execution_count": 12,
     "metadata": {},
     "output_type": "execute_result"
    }
   ],
   "source": [
    "length(men), length(women)"
   ]
  },
  {
   "cell_type": "markdown",
   "metadata": {},
   "source": [
    "**jest błędem stosować poniższy test** aby rozstrzygnąć czy istnieje różnica między średnimi.\n",
    "\n",
    "Oczywiście formuły po wprowadzeniu danych zwrócą wynik liczbowy, ale **nie ma on znaczenia statystycznego**!"
   ]
  },
  {
   "cell_type": "markdown",
   "metadata": {
    "run_control": {
     "frozen": false,
     "read_only": false
    }
   },
   "source": [
    ">Załóżmy, że mamy dwie próby: $x$ i $y$ o $N$ elementach i **tej samej wariancji**.\n",
    ">Wówczas $t$-statystyka wyraża się jako\n",
    "\n",
    ">$$t = \\frac{\\overline{x} - \\overline{y}}{\\sqrt{s_{pool}^2\\left(\\dfrac{1}{N} + \\dfrac{1}{N}\\right)}}\n",
    "= \\frac{\\overline{x} - \\overline{y}}{\\sqrt{\\dfrac{2s_{pool}^2}{N}}}$$\n",
    "gdzie:\n",
    "\n",
    ">* stopnie swobody: $2N-2$\n",
    ">* $s_{pool}^2 = \\dfrac{\\Sigma (x_i - \\overline{x})^2 + \\Sigma (y_i - \\overline{y})^2}{2N-2}$\n"
   ]
  },
  {
   "cell_type": "code",
   "execution_count": 13,
   "metadata": {
    "ExecuteTime": {
     "end_time": "2017-12-02T23:21:20.801000+01:00",
     "start_time": "2017-12-02T22:20:07.190Z"
    }
   },
   "outputs": [
    {
     "data": {
      "text/plain": [
       "12"
      ]
     },
     "execution_count": 13,
     "metadata": {},
     "output_type": "execute_result"
    }
   ],
   "source": [
    "N = length(men)"
   ]
  },
  {
   "cell_type": "code",
   "execution_count": 14,
   "metadata": {
    "ExecuteTime": {
     "end_time": "2017-12-02T23:21:22.464000+01:00",
     "start_time": "2017-12-02T22:20:07.198Z"
    }
   },
   "outputs": [
    {
     "data": {
      "text/plain": [
       "-0.5082822887700919"
      ]
     },
     "execution_count": 14,
     "metadata": {},
     "output_type": "execute_result"
    }
   ],
   "source": [
    "licznik = mean(men) - mean(women)\n",
    "spool_kw = (sum((men - mean(men)).^2) + sum((women-mean(women)).^2))/(2N-2)\n",
    "mianownik = sqrt(2*spool_kw/N)\n",
    "t = licznik/mianownik"
   ]
  },
  {
   "cell_type": "code",
   "execution_count": 15,
   "metadata": {
    "ExecuteTime": {
     "end_time": "2017-12-02T23:21:22.467000+01:00",
     "start_time": "2017-12-02T22:20:07.203Z"
    }
   },
   "outputs": [
    {
     "data": {
      "text/plain": [
       "0.6163143860907337"
      ]
     },
     "execution_count": 15,
     "metadata": {},
     "output_type": "execute_result"
    }
   ],
   "source": [
    "pval = tdistcdf(2N-2,-abs(t)) + tdistccdf(2N-2, abs(t))"
   ]
  },
  {
   "cell_type": "markdown",
   "metadata": {},
   "source": [
    "Konkluzja: `pval` $> 0.05$, wobec czego nie ma podstaw to tego aby uznać, że prowadzący jest stronniczy."
   ]
  },
  {
   "cell_type": "markdown",
   "metadata": {},
   "source": [
    "## Próby o różnych licznościach i równej wariancji"
   ]
  },
  {
   "cell_type": "markdown",
   "metadata": {},
   "source": [
    "**UWAGA**:\n",
    "Ponieważ nasze dane nie spełniają założeń powyższego testu (wariancje grup są różnej wielkości):"
   ]
  },
  {
   "cell_type": "code",
   "execution_count": 16,
   "metadata": {
    "ExecuteTime": {
     "end_time": "2017-12-02T23:21:22.734000+01:00",
     "start_time": "2017-12-02T22:20:07.209Z"
    }
   },
   "outputs": [
    {
     "data": {
      "text/plain": [
       "(134.6287878787879, 173.1043956043956)"
      ]
     },
     "execution_count": 16,
     "metadata": {},
     "output_type": "execute_result"
    }
   ],
   "source": [
    "var(men), var(women)"
   ]
  },
  {
   "cell_type": "markdown",
   "metadata": {
    "ExecuteTime": {
     "end_time": "2017-12-02T11:43:59.355000+01:00",
     "start_time": "2017-12-02T10:43:59.340Z"
    }
   },
   "source": [
    "**jest błędem stosować poniższy test** aby rozstrzygnąć czy istnieje różnica między średnimi.\n",
    "\n",
    "Oczywiście formuły po wprowadzeniu danych zwrócą wynik liczbowy, ale **nie ma on znaczenia statystycznego**!"
   ]
  },
  {
   "cell_type": "markdown",
   "metadata": {
    "run_control": {
     "frozen": false,
     "read_only": false
    }
   },
   "source": [
    ">Załóżmy, że mamy dwie próby $x$ i $y$ o licznościach odpowiednio $N_x$ i $N_y$. Wówczas $t$-statystykę wyraża się jako\n",
    ">$$t = \n",
    "\\frac{\\overline{x} - \\overline{y}}{s_{pool}\\sqrt{\\dfrac{1}{N_x}+ \\dfrac{1}{N_y}}}\n",
    "$$\n",
    ">\n",
    ">gdzie\n",
    "> * stopni swobody: $N_x + N_y - 2$\n",
    "> * $s_{pool} = \\sqrt{\\dfrac{\\sum_i(x_i-\\overline{x})^2 + \\sum_j(y_j-\\overline{y})^2}{N_x + N_y -2}}$"
   ]
  },
  {
   "cell_type": "code",
   "execution_count": 17,
   "metadata": {
    "ExecuteTime": {
     "end_time": "2017-12-02T23:21:22.739000+01:00",
     "start_time": "2017-12-02T22:20:07.217Z"
    },
    "run_control": {
     "frozen": false,
     "read_only": false
    }
   },
   "outputs": [
    {
     "data": {
      "text/plain": [
       "StudentTstat (generic function with 1 method)"
      ]
     },
     "execution_count": 17,
     "metadata": {},
     "output_type": "execute_result"
    }
   ],
   "source": [
    "function StudentTstat(X, Y)\n",
    "    suma_odchyleń_kw(x) = sum((x-mean(x)).^2)\n",
    "    licznik_t = mean(X) - mean(Y)\n",
    "    dof = length(X)+length(Y)-2\n",
    "    s_pool = sqrt((suma_odchyleń_kw(X) + suma_odchyleń_kw(Y))/dof)\n",
    "    mianownik_t = s_pool * sqrt(1/length(X) + 1/length(Y))\n",
    "    t = licznik_t/mianownik_t\n",
    "end"
   ]
  },
  {
   "cell_type": "code",
   "execution_count": 18,
   "metadata": {
    "ExecuteTime": {
     "end_time": "2017-12-02T23:21:22.779000+01:00",
     "start_time": "2017-12-02T22:20:07.223Z"
    }
   },
   "outputs": [
    {
     "data": {
      "text/plain": [
       "-0.5509238819721393"
      ]
     },
     "execution_count": 18,
     "metadata": {},
     "output_type": "execute_result"
    }
   ],
   "source": [
    "t = StudentTstat(men, women)"
   ]
  },
  {
   "cell_type": "code",
   "execution_count": 19,
   "metadata": {
    "ExecuteTime": {
     "end_time": "2017-12-02T23:21:22.782000+01:00",
     "start_time": "2017-12-02T22:20:07.232Z"
    }
   },
   "outputs": [
    {
     "data": {
      "text/plain": [
       "Pval_tdist (generic function with 1 method)"
      ]
     },
     "execution_count": 19,
     "metadata": {},
     "output_type": "execute_result"
    }
   ],
   "source": [
    "function Pval_tdist(dof, tstat)\n",
    "    return tdistcdf(dof, -abs(tstat)) + tdistccdf(dof, abs(tstat))\n",
    "end"
   ]
  },
  {
   "cell_type": "code",
   "execution_count": 20,
   "metadata": {
    "ExecuteTime": {
     "end_time": "2017-12-02T23:21:22.788000+01:00",
     "start_time": "2017-12-02T22:20:07.241Z"
    }
   },
   "outputs": [
    {
     "data": {
      "text/plain": [
       "0.5867783644773459"
      ]
     },
     "execution_count": 20,
     "metadata": {},
     "output_type": "execute_result"
    }
   ],
   "source": [
    "Pval_tdist(length(men) + length(women) - 2, t)"
   ]
  },
  {
   "cell_type": "markdown",
   "metadata": {
    "run_control": {
     "frozen": false,
     "read_only": false
    }
   },
   "source": [
    "# Test $t$-Welcha"
   ]
  },
  {
   "cell_type": "markdown",
   "metadata": {
    "run_control": {
     "frozen": false,
     "read_only": false
    }
   },
   "source": [
    "Precyzyjna nazwa:\n",
    "> Test $t$-Welcha dla różniących się wariancji (_Welch unequal variances $t$-test_)"
   ]
  },
  {
   "cell_type": "markdown",
   "metadata": {
    "run_control": {
     "frozen": false,
     "read_only": false
    }
   },
   "source": [
    "Załóżmy, że mamy dwie próby $x$ i $y$ o licznościach odpowiednio $N_x$ i $N_y$ i wariancjach $s_x^2$ i $s_y^2$. Wówczas $t$-statystykę wyraża się jako\n",
    "$$t = \n",
    "\\frac{\\overline{x} - \\overline{y}}{\\sqrt{\\dfrac{s_x^2}{N_x}+ \\dfrac{s_y^2}{N_y}}}\n",
    "$$\n",
    "\n",
    "**Stopnie swobody:**\n",
    "$$\\nu \\approx \\dfrac{\n",
    "    \\left(\n",
    "        \\dfrac{s_x^2}{N_x} + \\dfrac{s_y^2}{N_y}\n",
    "    \\right)^2}\n",
    "    {\n",
    "    \\dfrac{(s_x^2)^2}{N_x^2(N_x-1)} + \\dfrac{(s_y^2)^2}{N_y^2(N_y-1)}\n",
    "    }.\n",
    "$$"
   ]
  },
  {
   "cell_type": "markdown",
   "metadata": {
    "ExecuteTime": {
     "end_time": "2017-11-26T23:40:23.710000+01:00",
     "start_time": "2017-11-26T22:40:23.704Z"
    },
    "run_control": {
     "frozen": false,
     "read_only": false
    }
   },
   "source": [
    "1. **Bardziej preferowany** od testu $t$-Studenta gdy próby mają **różniące się wariancje** lub **różną liczbę pomiarów**.\n",
    "2. $t$-statystyki jest **większa** niż podobnym teście $t$-Studenta, ale **mniejsza jest** za to **liczba stopni swobody**"
   ]
  },
  {
   "cell_type": "markdown",
   "metadata": {
    "run_control": {
     "frozen": false,
     "read_only": false
    }
   },
   "source": [
    "Porównujemy ją z wartościami dla **rozkładu $t$-Studenta** dla **$k=\\lfloor \\nu \\rfloor$ stopni swobody** ($k$ jest największą liczbą całkowitą mniejszą od $\\nu$). "
   ]
  },
  {
   "cell_type": "code",
   "execution_count": 21,
   "metadata": {
    "ExecuteTime": {
     "end_time": "2017-12-02T23:21:22.792000+01:00",
     "start_time": "2017-12-02T22:20:07.257Z"
    },
    "run_control": {
     "frozen": false,
     "read_only": false
    }
   },
   "outputs": [
    {
     "data": {
      "text/plain": [
       "WelchTTest (generic function with 1 method)"
      ]
     },
     "execution_count": 21,
     "metadata": {},
     "output_type": "execute_result"
    }
   ],
   "source": [
    "function WelchTTest(X, Y)\n",
    "    licznik = mean(X) - mean(Y)\n",
    "    mianownik = sqrt(var(X)/length(X) + var(Y)/length(Y))\n",
    "    t = licznik/mianownik\n",
    "    \n",
    "    Nx = length(X)\n",
    "    Ny = length(Y)\n",
    "    ν_licznik = (var(X)/Nx + var(X)/Ny)^2\n",
    "    ν_mianownik = var(X)^2/(Nx^2*(Nx-1)) + var(Y)^2/(Ny^2*(Ny-1))\n",
    "    \n",
    "    ν = ν_licznik/ν_mianownik\n",
    "    \n",
    "    return floor(ν), t\n",
    "end"
   ]
  },
  {
   "cell_type": "code",
   "execution_count": 22,
   "metadata": {
    "ExecuteTime": {
     "end_time": "2017-12-02T23:21:22.804000+01:00",
     "start_time": "2017-12-02T22:20:07.271Z"
    },
    "run_control": {
     "frozen": false,
     "read_only": false
    }
   },
   "outputs": [
    {
     "data": {
      "text/plain": [
       "(18.0, -0.5564689281117474)"
      ]
     },
     "execution_count": 22,
     "metadata": {},
     "output_type": "execute_result"
    }
   ],
   "source": [
    "k, t = WelchTTest(men, women)"
   ]
  },
  {
   "cell_type": "code",
   "execution_count": 23,
   "metadata": {
    "ExecuteTime": {
     "end_time": "2017-12-02T23:21:25.105000+01:00",
     "start_time": "2017-12-02T22:20:07.290Z"
    }
   },
   "outputs": [
    {
     "data": {
      "text/html": [
       "<img src=\"data:image/png;base64,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\" />"
      ]
     },
     "execution_count": 23,
     "metadata": {},
     "output_type": "execute_result"
    }
   ],
   "source": [
    "plot(x->tdistpdf(k, x), -5, 5, label=\"Rozkład t($(Int(k)))\", linewidth=2)\n",
    "plot!([-5:0.01:-abs(t), abs(t):0.01:5], x->tdistpdf(k, x), fill=(0,), label=\"Szukana Część populacji\", opacity=0.5, c=p[2])\n",
    "xaxis!(\"Odchylenia standardowe\")"
   ]
  },
  {
   "cell_type": "code",
   "execution_count": 24,
   "metadata": {
    "ExecuteTime": {
     "end_time": "2017-12-02T23:21:25.114000+01:00",
     "start_time": "2017-12-02T22:20:07.305Z"
    }
   },
   "outputs": [
    {
     "data": {
      "text/plain": [
       "0.5847428542102251"
      ]
     },
     "execution_count": 24,
     "metadata": {},
     "output_type": "execute_result"
    }
   ],
   "source": [
    "Pval_tdist(k, t)"
   ]
  },
  {
   "cell_type": "markdown",
   "metadata": {},
   "source": [
    "**Konkluzja:** Jeśli populacje ocen Pań i Panów były **równe** (hipoteza zerowa) wówczas podobnie (lub bardziej) różniące się próby stanowią $>58\\%$ całej populacji **różnic między średnimi**.\n",
    "\n",
    "Nie ma zatem podstaw aby twierdzić, że prowadzący inaczej ocenia Panie i Panów."
   ]
  },
  {
   "cell_type": "markdown",
   "metadata": {
    "run_control": {
     "frozen": false,
     "read_only": false
    }
   },
   "source": [
    "## $t$-Student vs $t$-Welch"
   ]
  },
  {
   "cell_type": "code",
   "execution_count": 25,
   "metadata": {
    "ExecuteTime": {
     "end_time": "2017-12-02T23:21:25.387000+01:00",
     "start_time": "2017-12-02T22:20:07.332Z"
    },
    "run_control": {
     "frozen": false,
     "read_only": false
    }
   },
   "outputs": [
    {
     "data": {
      "text/plain": [
       "compare_Stud_Welch (generic function with 2 methods)"
      ]
     },
     "execution_count": 25,
     "metadata": {},
     "output_type": "execute_result"
    }
   ],
   "source": [
    "using HypothesisTests\n",
    "function compare_Stud_Welch(m1, m2, var1, var2, N1, N2, runs=1000000)\n",
    "    tStud = zeros(runs)\n",
    "    tWelch = zeros(runs)\n",
    "    t, k = 0.0, 0.0\n",
    "    for i in 1:runs\n",
    "        X = rand(Normal(m1, sqrt(var1)), N1)\n",
    "        Y = rand(Normal(m2, sqrt(var2)), N2)\n",
    "        tStud[i] = pvalue(EqualVarianceTTest(X,Y))\n",
    "        tWelch[i] = pvalue(UnequalVarianceTTest(X,Y))\n",
    "    end\n",
    "    return tStud, tWelch\n",
    "end"
   ]
  },
  {
   "cell_type": "markdown",
   "metadata": {
    "run_control": {
     "frozen": false,
     "read_only": false
    }
   },
   "source": [
    "### Przykład: równe wariancje i wielkości prób"
   ]
  },
  {
   "cell_type": "markdown",
   "metadata": {},
   "source": [
    "* Średnie obu populacji równe $0$\n",
    "* Wariancje obu populacji równe $4$\n",
    "* Wielkości obu prób równe $15$"
   ]
  },
  {
   "cell_type": "markdown",
   "metadata": {},
   "source": [
    "Losujemy $2\\times 1000000$ prób z populacji które nie różnią się średnią i porównujemy je ze sobą. \n",
    "\n",
    "Oczekujemy, że każdy z testów pomyli się conajwyżej w $5\\%$ przypadków, jeśli będziemy odrzucać hipotezę zerową dla wartości-$p$ mniejszej od $0.05$:"
   ]
  },
  {
   "cell_type": "code",
   "execution_count": 26,
   "metadata": {
    "ExecuteTime": {
     "end_time": "2017-12-02T23:21:29.954000+01:00",
     "start_time": "2017-12-02T22:20:07.342Z"
    },
    "run_control": {
     "frozen": false,
     "read_only": false
    }
   },
   "outputs": [
    {
     "name": "stdout",
     "output_type": "stream",
     "text": [
      "Stdnt_TypeIerror_rate = 0.050073\n",
      "Welch_TypeIerror_rate = 0.049457\n"
     ]
    }
   ],
   "source": [
    "S, W = compare_Stud_Welch(0, 0, 4, 4, 15, 15)\n",
    "Stdnt_TypeIerror_rate = count(x -> x<0.05, S)/length(S)\n",
    "Welch_TypeIerror_rate = count(x -> x<0.05, W)/length(W)\n",
    "@show(Stdnt_TypeIerror_rate, Welch_TypeIerror_rate);"
   ]
  },
  {
   "cell_type": "markdown",
   "metadata": {
    "run_control": {
     "frozen": false,
     "read_only": false
    }
   },
   "source": [
    "### Przykład: różne wariancje i wielkości prób"
   ]
  },
  {
   "cell_type": "markdown",
   "metadata": {},
   "source": [
    "* Średnie obu populacji równe $0$\n",
    "* Populacja I:\n",
    "  - wariancja: $1$\n",
    "  - wielkość próby $20$\n",
    "* Populacja II:\n",
    "  - wariancja: $16$\n",
    "  - wielkość próby $10$"
   ]
  },
  {
   "cell_type": "code",
   "execution_count": 27,
   "metadata": {
    "ExecuteTime": {
     "end_time": "2017-12-02T23:21:35.232000+01:00",
     "start_time": "2017-12-02T22:20:07.350Z"
    },
    "run_control": {
     "frozen": false,
     "read_only": false
    }
   },
   "outputs": [
    {
     "name": "stdout",
     "output_type": "stream",
     "text": [
      "Stdnt_TypeIerror_rate = 0.16184\n",
      "Welch_TypeIerror_rate = 0.050228\n"
     ]
    }
   ],
   "source": [
    "S, W = compare_Stud_Welch(0, 0, 1, 16, 20, 10)\n",
    "Stdnt_TypeIerror_rate = count(x -> x<0.05, S)/length(S)\n",
    "Welch_TypeIerror_rate = count(x -> x<0.05, W)/length(W)\n",
    "@show(Stdnt_TypeIerror_rate, Welch_TypeIerror_rate);"
   ]
  },
  {
   "cell_type": "code",
   "execution_count": 28,
   "metadata": {
    "ExecuteTime": {
     "end_time": "2017-12-02T23:21:40.191000+01:00",
     "start_time": "2017-12-02T22:20:07.358Z"
    }
   },
   "outputs": [
    {
     "name": "stdout",
     "output_type": "stream",
     "text": [
      "Stdnt_TypeIerror_rate = 0.011123\n",
      "Welch_TypeIerror_rate = 0.049778\n"
     ]
    }
   ],
   "source": [
    "S, W = compare_Stud_Welch(0, 0, 16, 1, 20, 10)\n",
    "Stdnt_TypeIerror_rate = count(x -> x<0.05, S)/length(S)\n",
    "Welch_TypeIerror_rate = count(x -> x<0.05, W)/length(W)\n",
    "@show(Stdnt_TypeIerror_rate, Welch_TypeIerror_rate);"
   ]
  },
  {
   "cell_type": "markdown",
   "metadata": {},
   "source": [
    "> **Problem:**\n",
    ">\n",
    "> Co możemy wywnioskować o zawodności testu $t$-Studenta i $t$-Welcha?"
   ]
  },
  {
   "cell_type": "markdown",
   "metadata": {
    "run_control": {
     "frozen": false,
     "read_only": false
    }
   },
   "source": [
    "# Test Jednostronny"
   ]
  },
  {
   "cell_type": "markdown",
   "metadata": {
    "ExecuteTime": {
     "end_time": "2017-11-27T02:10:51.088000+01:00",
     "start_time": "2017-11-27T01:10:51.024Z"
    },
    "run_control": {
     "frozen": false,
     "read_only": false
    }
   },
   "source": [
    "> **Pytanie**\n",
    ">\n",
    "> Sprawdziliśmy czy oceny Pań pochodzą z populacji o **tej samej średniej**. Czy taki był zarzut??  \n",
    "> **NIE**: prowadzący miał _faworyzować_ Panie! Posądzenie przecież brzmiało **oceny Pań były średnio wyższe niż Panów**.\n",
    "\n",
    "* **Hipoteza zerowa:** Średnia ocen Pań nie jest większa niż średnia ocen Panów\n",
    "* **Hipoteza alternatywna:** Średnia ocen Pań jest większa niż średnia ocen Panów\n",
    "* **Test:** różne wariancje i różne wielkości prób → test $t$-Welcha"
   ]
  },
  {
   "cell_type": "code",
   "execution_count": 29,
   "metadata": {
    "ExecuteTime": {
     "end_time": "2017-12-02T23:21:40.269000+01:00",
     "start_time": "2017-12-02T22:20:07.367Z"
    }
   },
   "outputs": [
    {
     "data": {
      "text/html": [
       "-2.702380952380949"
      ],
      "text/plain": [
       "-2.702380952380949"
      ]
     },
     "execution_count": 29,
     "metadata": {},
     "output_type": "execute_result"
    }
   ],
   "source": [
    "mean(men) - mean(women)"
   ]
  },
  {
   "cell_type": "code",
   "execution_count": 30,
   "metadata": {
    "ExecuteTime": {
     "end_time": "2017-12-02T23:21:40.272000+01:00",
     "start_time": "2017-12-02T22:20:07.375Z"
    },
    "run_control": {
     "frozen": false,
     "read_only": false
    }
   },
   "outputs": [
    {
     "data": {
      "text/plain": [
       "(18.0, -0.5564689281117474)"
      ]
     },
     "execution_count": 30,
     "metadata": {},
     "output_type": "execute_result"
    }
   ],
   "source": [
    "k, t = WelchTTest(men, women)"
   ]
  },
  {
   "cell_type": "code",
   "execution_count": 31,
   "metadata": {
    "ExecuteTime": {
     "end_time": "2017-12-02T23:21:41.555000+01:00",
     "start_time": "2017-12-02T22:20:07.386Z"
    },
    "run_control": {
     "frozen": false,
     "read_only": false
    }
   },
   "outputs": [
    {
     "data": {
      "text/html": [
       "<img src=\"data:image/png;base64,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\" />"
      ]
     },
     "execution_count": 31,
     "metadata": {},
     "output_type": "execute_result"
    }
   ],
   "source": [
    "plot(x->tdistpdf(k, x), -5, 5, label=\"Rozkład t($(Int(k)))\")\n",
    "plot!(x->tdistpdf(k, x), -5, t, fill=(0,), label=\"Szukana Część populacji\", opacity=0.5)\n",
    "xaxis!(\"Odchylenia standardowe\")"
   ]
  },
  {
   "cell_type": "markdown",
   "metadata": {},
   "source": [
    "Szukana część populacji (czego???) to ta, gdzie różnica jest mniejsza (**bardziej ujemna!**) niż zaobserwowana różnica to:"
   ]
  },
  {
   "cell_type": "code",
   "execution_count": 32,
   "metadata": {
    "ExecuteTime": {
     "end_time": "2017-12-02T23:21:41.565000+01:00",
     "start_time": "2017-12-02T22:20:07.396Z"
    }
   },
   "outputs": [
    {
     "data": {
      "text/html": [
       "0.29237142710511255"
      ],
      "text/plain": [
       "0.29237142710511255"
      ]
     },
     "execution_count": 32,
     "metadata": {},
     "output_type": "execute_result"
    }
   ],
   "source": [
    "tdistcdf(k, -abs(t))"
   ]
  },
  {
   "cell_type": "markdown",
   "metadata": {},
   "source": [
    "Nadal nie pozwala to odrzucić **hipotezy zerowej**, że prowadzący jest bezstronny."
   ]
  },
  {
   "cell_type": "code",
   "execution_count": null,
   "metadata": {
    "collapsed": true
   },
   "outputs": [],
   "source": []
  },
  {
   "cell_type": "code",
   "execution_count": 33,
   "metadata": {
    "ExecuteTime": {
     "end_time": "2017-12-02T23:21:43.244000+01:00",
     "start_time": "2017-12-02T22:20:07.409Z"
    }
   },
   "outputs": [
    {
     "data": {
      "text/html": [
       "<img src=\"data:image/png;base64,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\" />"
      ]
     },
     "execution_count": 33,
     "metadata": {},
     "output_type": "execute_result"
    }
   ],
   "source": [
    "plot(x->tdistpdf(k, x), -5, 5, label=\"Rozkład t($(Int(k)))\")\n",
    "plot!(x->tdistpdf(k, x), -5, -1.7, fill=(0,), label=\"Część populacji - test jednostronny\", opacity=0.5)\n",
    "plot!([-5:0.01:-2, 2:0.01:5], \n",
    "    [x->tdistpdf(k, x), x->tdistpdf(k, x)], fill=(0,), label=\"Część populacji - test dwustronny\", opacity=0.5, c=p[3])\n",
    "xaxis!(\"Odchylenia standardowe\")"
   ]
  },
  {
   "cell_type": "code",
   "execution_count": null,
   "metadata": {
    "collapsed": true
   },
   "outputs": [],
   "source": []
  },
  {
   "cell_type": "markdown",
   "metadata": {},
   "source": [
    "> **Problem**\n",
    "> \n",
    "> Czy aby wykazać statystyczną istotność $t$-statystyka musi być dla testu jednostronnego bardziej czy mniej odległa od średniej (niż w teście dwustronnym)? Dlaczego?\n",
    ">\n",
    "> Sprawdź na przykładzie rozkładu $t$-Studenta o $30$ stopniach swobody i rozkładu normalnego."
   ]
  },
  {
   "cell_type": "code",
   "execution_count": null,
   "metadata": {
    "collapsed": true
   },
   "outputs": [],
   "source": []
  },
  {
   "cell_type": "markdown",
   "metadata": {},
   "source": [
    "> **Problem**\n",
    ">\n",
    "> Jak duża (w odchyleniach standardowych) musiałaby być różnica między średnimi wynikami Pań i Panów aby móc odrzucić hipotezę zerową w teście jednostronnym?\n",
    ">\n",
    "> A w dwustronnym?"
   ]
  },
  {
   "cell_type": "code",
   "execution_count": null,
   "metadata": {
    "collapsed": true
   },
   "outputs": [],
   "source": []
  },
  {
   "cell_type": "markdown",
   "metadata": {
    "run_control": {
     "frozen": false,
     "read_only": false
    }
   },
   "source": [
    "# $t$-Test sparowany"
   ]
  },
  {
   "cell_type": "markdown",
   "metadata": {
    "collapsed": true,
    "run_control": {
     "frozen": false,
     "read_only": false
    }
   },
   "source": [
    "1. **Kiedy?**\n",
    "  - dokonujemy dwóch pomiarów na jednym obiekcie\n",
    "  - np. badamy każdego pacjenta tydzień przed i tydzień po podaniu leku\n",
    "2. **Dlaczego?**\n",
    "  - pozwala sprawdzić czy \"podanie leku przyniosło skutek\"\n",
    "3. **Czym jest?**\n",
    "  - to po prostu test $t$-Studenta dla jednej próby **składającej się z różnic**"
   ]
  },
  {
   "cell_type": "code",
   "execution_count": 34,
   "metadata": {
    "ExecuteTime": {
     "end_time": "2017-12-02T23:21:43.457000+01:00",
     "start_time": "2017-12-02T22:20:07.425Z"
    },
    "collapsed": true,
    "run_control": {
     "frozen": false,
     "read_only": false
    }
   },
   "outputs": [],
   "source": [
    "N = 10\n",
    "before = rand(Normal(10,3), N);\n",
    "after = 0.96*before .+ 2.*randn(N);"
   ]
  },
  {
   "cell_type": "code",
   "execution_count": 35,
   "metadata": {
    "ExecuteTime": {
     "end_time": "2017-12-02T23:21:43.528000+01:00",
     "start_time": "2017-12-02T22:20:07.436Z"
    },
    "collapsed": true
   },
   "outputs": [],
   "source": [
    "before = round.(before, 1)\n",
    "after = round.(after, 1);"
   ]
  },
  {
   "cell_type": "code",
   "execution_count": 36,
   "metadata": {
    "ExecuteTime": {
     "end_time": "2017-12-02T23:21:43.771000+01:00",
     "start_time": "2017-12-02T22:20:07.445Z"
    },
    "run_control": {
     "frozen": false,
     "read_only": false
    }
   },
   "outputs": [
    {
     "name": "stdout",
     "output_type": "stream",
     "text": [
      "before \t after \t difference\n",
      "10.4\t 8.1\t -2.3\n",
      "11.6\t 14.8\t 3.2\n",
      "8.1\t 12.4\t 4.3\n",
      "10.5\t 11.2\t 0.7\n",
      "9.9\t 10.6\t 0.7\n",
      "12.0\t 11.3\t -0.7\n",
      "8.0\t 9.7\t 1.7\n",
      "9.2\t 8.6\t -0.6\n",
      "6.0\t 3.2\t -2.8\n",
      "10.5\t 8.6\t -1.9\n"
     ]
    }
   ],
   "source": [
    "println(\"before \\t after \\t difference\")\n",
    "for i in 1:N\n",
    "    println(before[i], \"\\t \", after[i], \"\\t \", round(after[i] - before[i], 2))\n",
    "end\n",
    "differences = after .- before;"
   ]
  },
  {
   "cell_type": "code",
   "execution_count": 37,
   "metadata": {
    "ExecuteTime": {
     "end_time": "2017-12-02T23:21:44.859000+01:00",
     "start_time": "2017-12-02T22:20:07.456Z"
    }
   },
   "outputs": [
    {
     "data": {
      "text/html": [
       "<img src=\"data:image/png;base64,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\" />"
      ]
     },
     "execution_count": 37,
     "metadata": {},
     "output_type": "execute_result"
    }
   ],
   "source": [
    "scatter(before, before-after, xlabel=\"Przed podaniem\", ylabel=\"Po podaniu\")"
   ]
  },
  {
   "cell_type": "markdown",
   "metadata": {},
   "source": [
    "* **Hipoteza zerowa: ** Nie ma różnicy między średnią populacji różnic a $0$.\n",
    "* **Hipoteza alternatywna:** jest różnica\n",
    "* **Porównujemy:** Populację różnic (po - przed) z populacją o średniej $0$.\n",
    "* **Test:** $t$-Studenta sparowany = na różnicę średniej populacji od znanej wartości \n",
    "* **Stopni swobody:** Liczba pacjentów - 1 "
   ]
  },
  {
   "cell_type": "markdown",
   "metadata": {
    "collapsed": true
   },
   "source": [
    "Wykonać!"
   ]
  },
  {
   "cell_type": "code",
   "execution_count": null,
   "metadata": {
    "collapsed": true
   },
   "outputs": [],
   "source": []
  },
  {
   "cell_type": "code",
   "execution_count": null,
   "metadata": {
    "collapsed": true
   },
   "outputs": [],
   "source": []
  },
  {
   "cell_type": "code",
   "execution_count": null,
   "metadata": {
    "collapsed": true
   },
   "outputs": [],
   "source": []
  },
  {
   "cell_type": "code",
   "execution_count": null,
   "metadata": {
    "collapsed": true
   },
   "outputs": [],
   "source": []
  },
  {
   "cell_type": "markdown",
   "metadata": {
    "run_control": {
     "frozen": false,
     "read_only": false
    }
   },
   "source": [
    "# Przedziały ufności"
   ]
  },
  {
   "cell_type": "markdown",
   "metadata": {},
   "source": [
    "Czasami do otrzymanego wyniku dodaje się tzw **przedziały ufności**:\n",
    "\n",
    "> Dysponując próbą $x$ o rozkładzie **normalnym** przedział ufności (o poziomie ufności $1-0.05$) **dla średniej** wyznacza się jako\n",
    "> $$ \\left[\\overline{x}-1.96\\cdot SE,  \\overline{x}+1.96\\cdot SE\\right]$$\n",
    ">\n",
    "> Jest to przedział który zawiera który z $95\\%$ _ufnością_ zwiera **prawdziwą średnią populacji średnich**.\n",
    "\n",
    "1. Ufność To **NIE jest prawdopodobieństwo** że przedział ufności zawiera prawdziwą średnią!\n",
    "2. Prawdziwa średnia jest w przedziale wyliczonym na podstawie $x$ albo zawarta albo nie. Nie ma mowy o prawdopodobieństwie!\n",
    "3. Gdybyśmy wielokrotnie brali próby $x_1, x_2, \\ldots$ wówczas tylko $5\\%$ tych interwałów **nie** będzie zawierać prawdziwej średniej populacji.\n",
    "4. Jeśli $x$ jest rozłożone zgodnie z innym rozkładem stałą $1.96$ należy zastąpić przez taką stałą $C$ aby dalej niż $C\\cdot SE$ od średniej leżało tylko populacji $5\\%$ populacji."
   ]
  },
  {
   "cell_type": "markdown",
   "metadata": {},
   "source": [
    "Aby zobaczyć ładną wizualizację tego konceptu proponuję zajrzeć na stronę https://students.brown.edu/seeing-theory/statistical-inference/index.html"
   ]
  },
  {
   "cell_type": "markdown",
   "metadata": {},
   "source": [
    "> **Problem**: \n",
    ">\n",
    "> Jeśli \n",
    "```\n",
    "X = [1.37, 1.11, 1.85, -1.18, 0.1, 0.59, 1.52, 0.92, 0.71, -0.23]\n",
    "```\n",
    ">pochodzi z rozkładu $t$-Studenta o $9$ stopniach swobody wyznacz przedział ufności dla średniej $\\overline{X}$.\n",
    "\n"
   ]
  },
  {
   "cell_type": "code",
   "execution_count": 38,
   "metadata": {
    "ExecuteTime": {
     "end_time": "2017-12-02T23:21:44.865000+01:00",
     "start_time": "2017-12-02T22:20:07.476Z"
    }
   },
   "outputs": [
    {
     "data": {
      "text/plain": [
       "10-element Array{Float64,1}:\n",
       "  1.37\n",
       "  1.11\n",
       "  1.85\n",
       " -1.18\n",
       "  0.1 \n",
       "  0.59\n",
       "  1.52\n",
       "  0.92\n",
       "  0.71\n",
       " -0.23"
      ]
     },
     "execution_count": 38,
     "metadata": {},
     "output_type": "execute_result"
    }
   ],
   "source": [
    "X = [1.37, 1.11, 1.85, -1.18, 0.1, 0.59, 1.52, 0.92, 0.71, -0.23]"
   ]
  },
  {
   "cell_type": "code",
   "execution_count": 39,
   "metadata": {
    "ExecuteTime": {
     "end_time": "2017-12-02T23:21:44.870000+01:00",
     "start_time": "2017-12-02T22:20:07.488Z"
    }
   },
   "outputs": [
    {
     "data": {
      "text/plain": [
       "SE (generic function with 1 method)"
      ]
     },
     "execution_count": 39,
     "metadata": {},
     "output_type": "execute_result"
    }
   ],
   "source": [
    "SE(v) = std(v)/sqrt(length(v))"
   ]
  },
  {
   "cell_type": "code",
   "execution_count": 40,
   "metadata": {
    "ExecuteTime": {
     "end_time": "2017-12-02T23:21:44.900000+01:00",
     "start_time": "2017-12-02T22:20:07.502Z"
    }
   },
   "outputs": [
    {
     "data": {
      "text/plain": [
       "(0.0261993199532079, 1.3258006800467919)"
      ]
     },
     "execution_count": 40,
     "metadata": {},
     "output_type": "execute_result"
    }
   ],
   "source": [
    "mean(X) + tdistinvcdf(9, 0.025)*SE(X), mean(X) + tdistinvccdf(9, 0.025)*SE(X)"
   ]
  },
  {
   "cell_type": "code",
   "execution_count": null,
   "metadata": {
    "collapsed": true
   },
   "outputs": [],
   "source": []
  },
  {
   "cell_type": "code",
   "execution_count": null,
   "metadata": {
    "collapsed": true,
    "run_control": {
     "frozen": false,
     "read_only": false
    }
   },
   "outputs": [],
   "source": []
  }
 ],
 "metadata": {
  "kernelspec": {
   "display_name": "Julia 0.6.1",
   "language": "julia",
   "name": "julia-0.6"
  },
  "language_info": {
   "file_extension": ".jl",
   "mimetype": "application/julia",
   "name": "julia",
   "version": "0.6.1"
  },
  "toc": {
   "colors": {
    "hover_highlight": "#DAA520",
    "running_highlight": "#FF0000",
    "selected_highlight": "#FFD700"
   },
   "moveMenuLeft": true,
   "nav_menu": {
    "height": "11px",
    "width": "251px"
   },
   "navigate_menu": true,
   "number_sections": true,
   "sideBar": true,
   "threshold": 4,
   "toc_cell": false,
   "toc_position": {
    "height": "635px",
    "left": "0px",
    "right": "972px",
    "top": "34px",
    "width": "276px"
   },
   "toc_section_display": "block",
   "toc_window_display": false,
   "widenNotebook": false
  }
 },
 "nbformat": 4,
 "nbformat_minor": 2
}
